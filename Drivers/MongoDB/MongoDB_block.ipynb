{
 "cells": [
  {
   "cell_type": "markdown",
   "id": "6bddb8ae-6215-4022-af33-03543e257a9e",
   "metadata": {},
   "source": [
    "# MongoDB Benchmarks – Big Experiments\n",
    "\n",
    "## Libraries"
   ]
  },
  {
   "cell_type": "code",
   "execution_count": 2,
   "id": "fcce2bc2-108c-4d23-ace9-0745c90ac614",
   "metadata": {},
   "outputs": [],
   "source": [
    "from fabric import ThreadingGroup, Connection\n",
    "from chi import server, ssh\n",
    "import os\n",
    "import warnings\n",
    "import time\n",
    "import sys\n",
    "sys.path.append('../../scripts')\n",
    "from utilities import *\n",
    "warnings.filterwarnings('ignore')\n"
   ]
  },
  {
   "cell_type": "markdown",
   "id": "0a6c588e-0ad4-44ad-89a0-4a5a55e7d771",
   "metadata": {},
   "source": [
    "## Configurations"
   ]
  },
  {
   "cell_type": "code",
   "execution_count": 3,
   "id": "b79213e3-936f-4609-91ce-a769f008290f",
   "metadata": {},
   "outputs": [],
   "source": [
    "sshUser = \"ubuntu\"\n",
    "server_ips = [\"64.131.114.157\"]\n",
    "server_local_ips = {}\n",
    "client_ips = [\"64.131.114.158\"]\n",
    "\n",
    "storageType = {\"HDD\": \"/HDD\", \"NVME\": \"/NVME_RAID-0\"}\n",
    "SERVER_WORKING_DIR = storageType[\"NVME\"]\n"
   ]
  },
  {
   "cell_type": "markdown",
   "id": "3295b7b3-bba7-412a-9be4-1e086c95c674",
   "metadata": {},
   "source": [
    "## Initialize environment"
   ]
  },
  {
   "cell_type": "code",
   "execution_count": 4,
   "id": "002d525a-9f8f-4914-9517-70bb8b70866a",
   "metadata": {
    "scrolled": true,
    "tags": []
   },
   "outputs": [],
   "source": [
    "# These groups are for processing in parallel\n",
    "serverConnections = [Connection(i, user=sshUser) for i in server_ips]\n",
    "clientConnections = [Connection(i, user=sshUser) for i in client_ips]\n",
    "allConnections = (serverConnections + clientConnections)\n",
    "serverGroup = ThreadingGroup.from_connections(serverConnections)\n",
    "clientGroup = ThreadingGroup.from_connections(clientConnections)\n",
    "allGroup = ThreadingGroup.from_connections(allConnections)\n",
    "\n",
    "# Get local IP for server\n",
    "local_ips = serverGroup.run(\"hostname -I | cut -d ' ' -f 1\", hide=True)\n",
    "for i in local_ips:\n",
    "    server_local_ips[i.host] = local_ips[i].stdout.strip()\n"
   ]
  },
  {
   "cell_type": "code",
   "execution_count": 4,
   "id": "d92c1d2a-2c23-47be-9eff-43f52f3bc09d",
   "metadata": {},
   "outputs": [],
   "source": [
    "# # Update & Upgrade latest packages\n",
    "# allGroup.run(f\"sudo apt update; sudo apt upgrade -y; sudo shutdown -r +1\", hide=True)\n",
    "# allGroup.close()\n"
   ]
  },
  {
   "cell_type": "markdown",
   "id": "404bec7d-097b-4393-b2a1-45130b70c200",
   "metadata": {
    "tags": []
   },
   "source": [
    "Wait for all server to come online after reboot"
   ]
  },
  {
   "cell_type": "code",
   "execution_count": 5,
   "id": "6f500297-d8f2-4f1b-b980-6df430f17d16",
   "metadata": {
    "tags": []
   },
   "outputs": [],
   "source": [
    "# # Buffer of reboot\n",
    "# time.sleep(70)\n",
    "\n",
    "# for ip in (server_ips + client_ips):\n",
    "#     server.wait_for_tcp(ip, 22, timeout=1200)\n"
   ]
  },
  {
   "cell_type": "markdown",
   "id": "82ad3b75-9522-4f1c-bfb6-07bd0dafaf94",
   "metadata": {},
   "source": [
    "## Datasets\n",
    "\n",
    "Preparing test datasets on client nodes"
   ]
  },
  {
   "cell_type": "code",
   "execution_count": 6,
   "id": "73c1ab25-1fb1-44c3-8519-6305b7f76593",
   "metadata": {
    "scrolled": true,
    "tags": []
   },
   "outputs": [],
   "source": [
    "# clientGroup.put(\"../scripts/initData.sh\")\n",
    "# clientGroup.run(\"bash initData.sh\", hide=True)\n",
    "# clientGroup.close()\n"
   ]
  },
  {
   "cell_type": "markdown",
   "id": "b5024407-1fe0-47e7-be6b-6c33d6ca4e2e",
   "metadata": {},
   "source": [
    "## Benchmark server (MongoDB)\n",
    "\n",
    "Prepare benchmark server"
   ]
  },
  {
   "cell_type": "code",
   "execution_count": 6,
   "id": "c6e56d56-fc22-4b4e-840d-dc0a242898b9",
   "metadata": {
    "scrolled": true,
    "tags": []
   },
   "outputs": [],
   "source": [
    "serverGroup.put(\"../../scripts/MongoDB/initMongoDBServer.sh\")\n",
    "serverGroup.run(f\"sudo chmod -R 777 {SERVER_WORKING_DIR}; bash initMongoDBServer.sh {SERVER_WORKING_DIR} true\", hide=True)\n",
    "serverGroup.close()\n"
   ]
  },
  {
   "cell_type": "markdown",
   "id": "e8add50a-88c3-4a82-89b2-a331309bc400",
   "metadata": {},
   "source": [
    "## Benchmark client (XBench)\n",
    "Prepare benchmark client"
   ]
  },
  {
   "cell_type": "code",
   "execution_count": 8,
   "id": "32fe4d74-a396-4f06-908a-290969d173d5",
   "metadata": {
    "scrolled": true,
    "tags": []
   },
   "outputs": [],
   "source": [
    "# clientGroup.put(\"../scripts/initXBenchClient.sh\")\n",
    "# clientGroup.run(\"bash initXBenchClient.sh\", hide=True)\n",
    "# clientGroup.close()\n"
   ]
  },
  {
   "cell_type": "markdown",
   "id": "34c49ccc-2b43-4103-ad2b-d95ecdb5f01b",
   "metadata": {},
   "source": [
    "## Experiments - Settings"
   ]
  },
  {
   "cell_type": "code",
   "execution_count": 7,
   "id": "a4948f3f-7429-4ad4-bd39-e2fcd7971e08",
   "metadata": {},
   "outputs": [],
   "source": [
    "targetThreads = [1, 2, 4, 8]\n",
    "numClients = [i * len(client_ips) for i in targetThreads]\n"
   ]
  },
  {
   "cell_type": "markdown",
   "id": "089e2cde-d0de-4e3f-84d7-0d007782bf3d",
   "metadata": {
    "tags": []
   },
   "source": [
    "## Experiment – UNARY INSERT (SEQ)\n",
    "**Perform experiments**"
   ]
  },
  {
   "cell_type": "code",
   "execution_count": null,
   "id": "682b19c1-35de-4460-bde2-57eaba980a45",
   "metadata": {
    "scrolled": true,
    "tags": []
   },
   "outputs": [
    {
     "name": "stdout",
     "output_type": "stream",
     "text": [
      "[Benchmark: 1] - Schedule workload on 1745832493\n",
      "[Benchmark: 1] [Client: 64.131.114.158] - Time now: 1745832440 | Delta: 53\n"
     ]
    }
   ],
   "source": [
    "runWorkload(\"INSERT_UNARY_SEQ\", targetThreads, server_local_ips[server_ips[0]], 9491, \"MongoDB\", client_ips, 1000, 0, serverGroup, SERVER_WORKING_DIR, \"ubuntu\")\n"
   ]
  },
  {
   "cell_type": "markdown",
   "id": "87b8f356-e958-4aa5-8c62-95e9ae8b38dd",
   "metadata": {},
   "source": [
    "**Visualization**"
   ]
  },
  {
   "cell_type": "code",
   "execution_count": null,
   "id": "4218ada0-135a-478b-ad59-61af59c7cacd",
   "metadata": {},
   "outputs": [],
   "source": [
    "unaryPlots(\"INSERT_UNARY_SEQ\", \"MongoDB\", targetThreads, client_ips, logScale=True)\n"
   ]
  },
  {
   "cell_type": "markdown",
   "id": "f451ee63-9d84-4e5b-ac3b-49d6f5db8568",
   "metadata": {},
   "source": [
    "## Experiment – BATCH INSERT (SEQ)\n",
    "**Perform experiments**"
   ]
  },
  {
   "cell_type": "code",
   "execution_count": null,
   "id": "65324694-baf2-45f2-814a-2f00dd0ac437",
   "metadata": {
    "scrolled": true
   },
   "outputs": [],
   "source": [
    "runWorkload(\"INSERT_BATCH_SEQ\", targetThreads, server_local_ips[server_ips[0]], 9491, \"MongoDB\", client_ips, 1000, 10, serverGroup, SERVER_WORKING_DIR, \"ubuntu\")\n"
   ]
  },
  {
   "cell_type": "markdown",
   "id": "13fa7d26-b0ca-468f-8c1f-b2c0fddcc370",
   "metadata": {},
   "source": [
    "**Visualization**"
   ]
  },
  {
   "cell_type": "code",
   "execution_count": null,
   "id": "cabd0364-f574-471e-a5cc-9cfea992fa98",
   "metadata": {},
   "outputs": [],
   "source": [
    "batchPlots(\"INSERT_BATCH_SEQ\", \"MongoDB\", targetThreads, client_ips)\n"
   ]
  },
  {
   "cell_type": "markdown",
   "id": "4ff91eff-3f96-4377-bccf-b91fa7136235",
   "metadata": {},
   "source": [
    "## Bootstrap Database\n",
    "\n",
    "Reboot server to a fresh state to avoid becoming non-accessible from public network"
   ]
  },
  {
   "cell_type": "code",
   "execution_count": 18,
   "id": "c0965786-6c0e-4132-897e-25c9b78d6660",
   "metadata": {},
   "outputs": [],
   "source": [
    "# allGroup.run(f\"sudo shutdown -r +1\", hide=True)\n",
    "# allGroup.close()\n",
    "\n",
    "# # Buffer of reboot\n",
    "# time.sleep(70)\n",
    "\n",
    "# for ip in (server_ips + client_ips):\n",
    "#     server.wait_for_tcp(ip, 22, timeout=1200)\n"
   ]
  },
  {
   "cell_type": "markdown",
   "id": "66e240dc-eaf0-478c-b904-32388be591bb",
   "metadata": {},
   "source": [
    "<div class=\"alert alert-block alert-info\">Note: This is required so that there's actual data for clients to query from</div>"
   ]
  },
  {
   "cell_type": "code",
   "execution_count": 19,
   "id": "22101196-e18b-4fea-ba7e-6c681d1e75b8",
   "metadata": {},
   "outputs": [],
   "source": [
    "# serverGroup.put(\"../scripts/restoreDB.sh\")\n",
    "# serverGroup.close()\n",
    "\n",
    "# # Restore DB\n",
    "# serverGroup.run(f\"bash restoreDB.sh CHI@UC MongoDB {SERVER_WORKING_DIR}\", hide=True)\n",
    "# serverGroup.close()\n",
    "\n",
    "# # Keep checking if job is done running in tmux window\n",
    "# checkTmuxJobIsDone(serverGroup)\n"
   ]
  },
  {
   "cell_type": "markdown",
   "id": "48646352-6e2b-4bdf-add3-1aa73c3a3784",
   "metadata": {},
   "source": [
    "## Experiment – UNARY QUERY (SEQ)\n",
    "\n",
    "**Perform experiments**"
   ]
  },
  {
   "cell_type": "code",
   "execution_count": null,
   "id": "fabc0c1b-40c5-4773-99eb-323df88bfcd0",
   "metadata": {
    "scrolled": true,
    "tags": []
   },
   "outputs": [],
   "source": [
    "runWorkload(\"QUERY_UNARY_SEQ\", targetThreads, server_local_ips[server_ips[0]], 9491, \"MongoDB\", client_ips, 1000, 0, serverGroup, SERVER_WORKING_DIR, \"ubuntu\")\n"
   ]
  },
  {
   "cell_type": "markdown",
   "id": "24986605-6980-46b2-85ad-3f9cce33effb",
   "metadata": {},
   "source": [
    "**Visualization**"
   ]
  },
  {
   "cell_type": "code",
   "execution_count": null,
   "id": "633b8fff-7bab-46f9-9460-2e0aa03d4430",
   "metadata": {},
   "outputs": [],
   "source": [
    "unaryPlots(\"QUERY_UNARY_SEQ\", \"MongoDB\", targetThreads, client_ips, logScale=True)\n"
   ]
  },
  {
   "cell_type": "markdown",
   "id": "506fff15-971c-4979-82cd-64082bf697e5",
   "metadata": {},
   "source": [
    "## Experiment – UNARY QUERY (RAND)\n",
    "\n",
    "**Perform experiments**"
   ]
  },
  {
   "cell_type": "code",
   "execution_count": null,
   "id": "4cb8d673-95e1-402b-9155-317c963c7f80",
   "metadata": {
    "scrolled": true,
    "tags": []
   },
   "outputs": [],
   "source": [
    "runWorkload(\"QUERY_UNARY_RAND\", targetThreads, server_local_ips[server_ips[0]], 9491, \"MongoDB\", client_ips, 1000, 0, serverGroup, SERVER_WORKING_DIR, \"ubuntu\")\n"
   ]
  },
  {
   "cell_type": "markdown",
   "id": "4e061c78-1f03-4cd5-94c5-227e63dd502a",
   "metadata": {},
   "source": [
    "**Visualization**"
   ]
  },
  {
   "cell_type": "code",
   "execution_count": null,
   "id": "ed393b86-8ffe-4ed2-939f-859d131bc222",
   "metadata": {},
   "outputs": [],
   "source": [
    "unaryPlots(\"QUERY_UNARY_RAND\", \"MongoDB\", targetThreads, client_ips)\n"
   ]
  },
  {
   "cell_type": "markdown",
   "id": "0e526db7-a5ef-48d9-bd58-2638921ce85e",
   "metadata": {},
   "source": [
    "## Experiment – BATCH QUERY (SEQ)\n",
    "\n",
    "**Perform experiments**"
   ]
  },
  {
   "cell_type": "code",
   "execution_count": null,
   "id": "1727925b-8b5b-48ea-9713-bcf0136fadd6",
   "metadata": {
    "scrolled": true
   },
   "outputs": [],
   "source": [
    "runWorkload(\"QUERY_BATCH_SEQ\", targetThreads, server_local_ips[server_ips[0]], 9491, \"MongoDB\", client_ips, 100, 1000, serverGroup, SERVER_WORKING_DIR, \"ubuntu\")\n"
   ]
  },
  {
   "cell_type": "markdown",
   "id": "b53fd5ff-9acf-4da0-bcdc-2c95647fef90",
   "metadata": {},
   "source": [
    "**Visualization**"
   ]
  },
  {
   "cell_type": "code",
   "execution_count": null,
   "id": "c5531d44-12c4-441c-b393-c0570509b051",
   "metadata": {},
   "outputs": [],
   "source": [
    "batchPlots(\"QUERY_BATCH_SEQ\", \"MongoDB\", targetThreads, client_ips, 100)\n"
   ]
  },
  {
   "cell_type": "markdown",
   "id": "451e1332-982e-4ac0-a54c-24007214b510",
   "metadata": {},
   "source": [
    "## Experiment – BATCH QUERY (RAND)\n",
    "\n",
    "**Perform experiments**"
   ]
  },
  {
   "cell_type": "code",
   "execution_count": null,
   "id": "83783a60-cb66-4565-9968-2be32ebba6cd",
   "metadata": {
    "scrolled": true
   },
   "outputs": [],
   "source": [
    "runWorkload(\"QUERY_BATCH_RAND\", targetThreads, server_local_ips[server_ips[0]], 9491, \"MongoDB\", client_ips, 1000, 10, serverGroup, SERVER_WORKING_DIR, \"ubuntu\")\n"
   ]
  },
  {
   "cell_type": "markdown",
   "id": "70178595-7267-4dcd-b782-d562a4c1ddf7",
   "metadata": {},
   "source": [
    "**Visualization**"
   ]
  },
  {
   "cell_type": "code",
   "execution_count": null,
   "id": "6f451420-f605-4757-8bb8-7e6158146ea6",
   "metadata": {},
   "outputs": [],
   "source": [
    "batchPlots(\"QUERY_BATCH_RAND\", \"MongoDB\", targetThreads, client_ips)\n"
   ]
  }
 ],
 "metadata": {
  "kernelspec": {
   "display_name": "base",
   "language": "python",
   "name": "python3"
  },
  "language_info": {
   "codemirror_mode": {
    "name": "ipython",
    "version": 3
   },
   "file_extension": ".py",
   "mimetype": "text/x-python",
   "name": "python",
   "nbconvert_exporter": "python",
   "pygments_lexer": "ipython3",
   "version": "3.11.4"
  }
 },
 "nbformat": 4,
 "nbformat_minor": 5
}
