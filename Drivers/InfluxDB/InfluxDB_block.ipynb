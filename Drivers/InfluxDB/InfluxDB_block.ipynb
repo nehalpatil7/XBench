{
 "cells": [
  {
   "cell_type": "markdown",
   "id": "6bddb8ae-6215-4022-af33-03543e257a9e",
   "metadata": {},
   "source": [
    "# InfluxDB Benchmarks – Big Experiments\n",
    "\n",
    "## Libraries"
   ]
  },
  {
   "cell_type": "code",
   "execution_count": 1,
   "id": "fcce2bc2-108c-4d23-ace9-0745c90ac614",
   "metadata": {},
   "outputs": [],
   "source": [
    "from fabric import ThreadingGroup, Connection\n",
    "from chi import server, ssh\n",
    "import os\n",
    "import warnings\n",
    "import time\n",
    "import sys\n",
    "\n",
    "sys.path.append(\"../../scripts\")\n",
    "from utilities import *\n",
    "\n",
    "warnings.filterwarnings(\"ignore\")\n"
   ]
  },
  {
   "cell_type": "markdown",
   "id": "0a6c588e-0ad4-44ad-89a0-4a5a55e7d771",
   "metadata": {},
   "source": [
    "## Configurations"
   ]
  },
  {
   "cell_type": "code",
   "execution_count": 2,
   "id": "b79213e3-936f-4609-91ce-a769f008290f",
   "metadata": {},
   "outputs": [],
   "source": [
    "sshUser = \"ubuntu\"\n",
    "server_ips = [\"64.131.114.157\"]\n",
    "server_local_ips = {}\n",
    "client_ips = [\"64.131.114.158\"]\n",
    "\n",
    "storageType = {\"HDD\": \"/HDD\", \"NVME\": \"/NVME_RAID-0\"}\n",
    "SERVER_WORKING_DIR = storageType[\"NVME\"]\n"
   ]
  },
  {
   "cell_type": "markdown",
   "id": "3295b7b3-bba7-412a-9be4-1e086c95c674",
   "metadata": {},
   "source": [
    "## Initialize environment"
   ]
  },
  {
   "cell_type": "code",
   "execution_count": 3,
   "id": "002d525a-9f8f-4914-9517-70bb8b70866a",
   "metadata": {
    "scrolled": true,
    "tags": []
   },
   "outputs": [],
   "source": [
    "# These groups are for processing in parallel\n",
    "serverConnections = [Connection(i, user=sshUser) for i in server_ips]\n",
    "clientConnections = [Connection(i, user=sshUser) for i in client_ips]\n",
    "allConnections = serverConnections + clientConnections\n",
    "serverGroup = ThreadingGroup.from_connections(serverConnections)\n",
    "clientGroup = ThreadingGroup.from_connections(clientConnections)\n",
    "allGroup = ThreadingGroup.from_connections(allConnections)\n",
    "\n",
    "# Get local IP for server\n",
    "local_ips = serverGroup.run(\"hostname -I | cut -d ' ' -f 1\", hide=True)\n",
    "for i in local_ips:\n",
    "    server_local_ips[i.host] = local_ips[i].stdout.strip()\n"
   ]
  },
  {
   "cell_type": "code",
   "execution_count": 4,
   "id": "d92c1d2a-2c23-47be-9eff-43f52f3bc09d",
   "metadata": {},
   "outputs": [],
   "source": [
    "# # Update & Upgrade latest packages\n",
    "# allGroup.run(f\"sudo apt update; sudo apt upgrade -y; sudo shutdown -r +1\", hide=True)\n",
    "# allGroup.close()\n"
   ]
  },
  {
   "cell_type": "markdown",
   "id": "404bec7d-097b-4393-b2a1-45130b70c200",
   "metadata": {
    "tags": []
   },
   "source": [
    "Wait for all server to come online after reboot"
   ]
  },
  {
   "cell_type": "code",
   "execution_count": 5,
   "id": "6f500297-d8f2-4f1b-b980-6df430f17d16",
   "metadata": {
    "tags": []
   },
   "outputs": [],
   "source": [
    "# # Buffer of reboot\n",
    "# time.sleep(70)\n",
    "\n",
    "# for ip in server_ips + client_ips:\n",
    "#     server.wait_for_tcp(ip, 22, timeout=1200)\n"
   ]
  },
  {
   "cell_type": "markdown",
   "id": "82ad3b75-9522-4f1c-bfb6-07bd0dafaf94",
   "metadata": {},
   "source": [
    "## Datasets\n",
    "\n",
    "Preparing test datasets on client nodes"
   ]
  },
  {
   "cell_type": "code",
   "execution_count": 6,
   "id": "73c1ab25-1fb1-44c3-8519-6305b7f76593",
   "metadata": {
    "scrolled": true,
    "tags": []
   },
   "outputs": [],
   "source": [
    "# clientGroup.put(\"../scripts/initData.sh\")\n",
    "# clientGroup.run(\"bash initData.sh\", hide=True)\n",
    "# clientGroup.close()\n"
   ]
  },
  {
   "cell_type": "markdown",
   "id": "b5024407-1fe0-47e7-be6b-6c33d6ca4e2e",
   "metadata": {},
   "source": [
    "## Benchmark server (InfluxDB)\n",
    "\n",
    "Prepare benchmark server"
   ]
  },
  {
   "cell_type": "code",
   "execution_count": 4,
   "id": "c6e56d56-fc22-4b4e-840d-dc0a242898b9",
   "metadata": {
    "scrolled": true,
    "tags": []
   },
   "outputs": [],
   "source": [
    "serverGroup.put(\"../../scripts/InfluxDB/initInfluxDBServer.sh\")\n",
    "serverGroup.run(\n",
    "    f\"sudo chmod -R 777 {SERVER_WORKING_DIR}; bash initInfluxDBServer.sh {SERVER_WORKING_DIR} true\",\n",
    "    hide=True,\n",
    ")\n",
    "serverGroup.close()\n"
   ]
  },
  {
   "cell_type": "markdown",
   "id": "e8add50a-88c3-4a82-89b2-a331309bc400",
   "metadata": {},
   "source": [
    "## Benchmark client (XBench)\n",
    "Prepare benchmark client"
   ]
  },
  {
   "cell_type": "code",
   "execution_count": 8,
   "id": "32fe4d74-a396-4f06-908a-290969d173d5",
   "metadata": {
    "scrolled": true,
    "tags": []
   },
   "outputs": [],
   "source": [
    "# clientGroup.put(\"../scripts/initXBenchClient.sh\")\n",
    "# clientGroup.run(\"bash initXBenchClient.sh\", hide=True)\n",
    "# clientGroup.close()\n"
   ]
  },
  {
   "cell_type": "markdown",
   "id": "34c49ccc-2b43-4103-ad2b-d95ecdb5f01b",
   "metadata": {},
   "source": [
    "## Experiments - Settings"
   ]
  },
  {
   "cell_type": "code",
   "execution_count": 5,
   "id": "a4948f3f-7429-4ad4-bd39-e2fcd7971e08",
   "metadata": {},
   "outputs": [],
   "source": [
    "targetThreads = [1, 2, 4, 8]\n",
    "numClients = [i * len(client_ips) for i in targetThreads]\n"
   ]
  },
  {
   "cell_type": "markdown",
   "id": "089e2cde-d0de-4e3f-84d7-0d007782bf3d",
   "metadata": {
    "tags": []
   },
   "source": [
    "## Experiment – UNARY INSERT (SEQ)\n",
    "**Perform experiments**"
   ]
  },
  {
   "cell_type": "code",
   "execution_count": null,
   "id": "682b19c1-35de-4460-bde2-57eaba980a45",
   "metadata": {
    "scrolled": true,
    "tags": []
   },
   "outputs": [],
   "source": [
    "runWorkload(\n",
    "    \"INSERT_UNARY_SEQ\",\n",
    "    targetThreads,\n",
    "    server_local_ips[server_ips[0]],\n",
    "    9492,\n",
    "    \"InfluxDB\",\n",
    "    client_ips,\n",
    "    1000,\n",
    "    0,\n",
    "    serverGroup,\n",
    "    SERVER_WORKING_DIR,\n",
    "    \"ubuntu\",\n",
    ")\n"
   ]
  },
  {
   "cell_type": "markdown",
   "id": "87b8f356-e958-4aa5-8c62-95e9ae8b38dd",
   "metadata": {},
   "source": [
    "**Visualization**"
   ]
  },
  {
   "cell_type": "code",
   "execution_count": null,
   "id": "4218ada0-135a-478b-ad59-61af59c7cacd",
   "metadata": {},
   "outputs": [],
   "source": [
    "unaryPlots(\"INSERT_UNARY_SEQ\", \"InfluxDB\", targetThreads, client_ips, logScale=True)\n"
   ]
  },
  {
   "cell_type": "markdown",
   "id": "1493364c-49b1-4b47-a6e1-5d55adcb0ac3",
   "metadata": {},
   "source": [
    "## Experiment – BATCH INSERT (SEQ)\n",
    "**Perform experiments**"
   ]
  },
  {
   "cell_type": "code",
   "execution_count": null,
   "id": "e5272d93-98df-46f0-85cd-ac64d90863a8",
   "metadata": {
    "scrolled": true
   },
   "outputs": [],
   "source": [
    "runWorkload(\n",
    "    \"INSERT_BATCH_SEQ\",\n",
    "    targetThreads,\n",
    "    server_local_ips[server_ips[0]],\n",
    "    9492,\n",
    "    \"InfluxDB\",\n",
    "    client_ips,\n",
    "    1000,\n",
    "    10,\n",
    "    serverGroup,\n",
    "    SERVER_WORKING_DIR,\n",
    "    \"ubuntu\",\n",
    ")\n"
   ]
  },
  {
   "cell_type": "markdown",
   "id": "974f74eb-337f-46a1-846c-65bddd00a2a6",
   "metadata": {},
   "source": [
    "**Visualization**"
   ]
  },
  {
   "cell_type": "code",
   "execution_count": null,
   "id": "dfad6cbe-2111-4efa-b2cf-79957fcafc54",
   "metadata": {},
   "outputs": [],
   "source": [
    "batchPlots(\"INSERT_BATCH_SEQ\", \"InfluxDB\", targetThreads, client_ips)\n"
   ]
  },
  {
   "cell_type": "markdown",
   "id": "4ff91eff-3f96-4377-bccf-b91fa7136235",
   "metadata": {},
   "source": [
    "## Bootstrap Database\n",
    "\n",
    "Reboot server to a fresh state to avoid becoming non-accessible from public network"
   ]
  },
  {
   "cell_type": "code",
   "execution_count": 18,
   "id": "c0965786-6c0e-4132-897e-25c9b78d6660",
   "metadata": {},
   "outputs": [],
   "source": [
    "# allGroup.run(f\"sudo shutdown -r +1\", hide=True)\n",
    "# allGroup.close()\n",
    "\n",
    "# # Buffer of reboot\n",
    "# time.sleep(70)\n",
    "\n",
    "# for ip in server_ips + client_ips:\n",
    "#     server.wait_for_tcp(ip, 22, timeout=1200)\n"
   ]
  },
  {
   "cell_type": "markdown",
   "id": "66e240dc-eaf0-478c-b904-32388be591bb",
   "metadata": {},
   "source": [
    "<div class=\"alert alert-block alert-info\">Note: This is required so that there's actual data for clients to query from</div>"
   ]
  },
  {
   "cell_type": "code",
   "execution_count": 19,
   "id": "22101196-e18b-4fea-ba7e-6c681d1e75b8",
   "metadata": {},
   "outputs": [],
   "source": [
    "# serverGroup.put(\"../scripts/restoreDB.sh\")\n",
    "# serverGroup.close()\n",
    "\n",
    "# # Restore DB\n",
    "# serverGroup.run(f\"bash restoreDB.sh CHI@UC InfluxDB {SERVER_WORKING_DIR}\", hide=True)\n",
    "# serverGroup.close()\n",
    "\n",
    "# # Keep checking if job is done running in tmux window\n",
    "# checkTmuxJobIsDone(serverGroup)\n"
   ]
  },
  {
   "cell_type": "markdown",
   "id": "48646352-6e2b-4bdf-add3-1aa73c3a3784",
   "metadata": {},
   "source": [
    "## Experiment – UNARY QUERY (SEQ)\n",
    "\n",
    "**Perform experiments**"
   ]
  },
  {
   "cell_type": "code",
   "execution_count": null,
   "id": "fabc0c1b-40c5-4773-99eb-323df88bfcd0",
   "metadata": {
    "scrolled": true,
    "tags": []
   },
   "outputs": [],
   "source": [
    "runWorkload(\n",
    "    \"QUERY_UNARY_SEQ\",\n",
    "    targetThreads,\n",
    "    server_local_ips[server_ips[0]],\n",
    "    9492,\n",
    "    \"InfluxDB\",\n",
    "    client_ips,\n",
    "    1000,\n",
    "    0,\n",
    "    serverGroup,\n",
    "    SERVER_WORKING_DIR,\n",
    "    \"ubuntu\",\n",
    ")\n"
   ]
  },
  {
   "cell_type": "markdown",
   "id": "24986605-6980-46b2-85ad-3f9cce33effb",
   "metadata": {},
   "source": [
    "**Visualization**"
   ]
  },
  {
   "cell_type": "code",
   "execution_count": null,
   "id": "633b8fff-7bab-46f9-9460-2e0aa03d4430",
   "metadata": {},
   "outputs": [],
   "source": [
    "unaryPlots(\"QUERY_UNARY_SEQ\", \"InfluxDB\", targetThreads, client_ips, logScale=True)\n"
   ]
  },
  {
   "cell_type": "markdown",
   "id": "506fff15-971c-4979-82cd-64082bf697e5",
   "metadata": {},
   "source": [
    "## Experiment – UNARY QUERY (RAND)\n",
    "\n",
    "**Perform experiments**"
   ]
  },
  {
   "cell_type": "code",
   "execution_count": null,
   "id": "4cb8d673-95e1-402b-9155-317c963c7f80",
   "metadata": {
    "scrolled": true,
    "tags": []
   },
   "outputs": [],
   "source": [
    "runWorkload(\n",
    "    \"QUERY_UNARY_RAND\",\n",
    "    targetThreads,\n",
    "    server_local_ips[server_ips[0]],\n",
    "    9492,\n",
    "    \"InfluxDB\",\n",
    "    client_ips,\n",
    "    1000,\n",
    "    0,\n",
    "    serverGroup,\n",
    "    SERVER_WORKING_DIR,\n",
    "    \"ubuntu\",\n",
    ")\n"
   ]
  },
  {
   "cell_type": "markdown",
   "id": "4e061c78-1f03-4cd5-94c5-227e63dd502a",
   "metadata": {},
   "source": [
    "**Visualization**"
   ]
  },
  {
   "cell_type": "code",
   "execution_count": null,
   "id": "ed393b86-8ffe-4ed2-939f-859d131bc222",
   "metadata": {},
   "outputs": [],
   "source": [
    "unaryPlots(\"QUERY_UNARY_RAND\", \"InfluxDB\", targetThreads, client_ips, logScale=True)\n"
   ]
  },
  {
   "cell_type": "markdown",
   "id": "869081ac-de04-46f3-bcfb-6e2506652d01",
   "metadata": {},
   "source": [
    "## Experiment – BATCH QUERY (SEQ)\n",
    "\n",
    "**Perform experiments**"
   ]
  },
  {
   "cell_type": "code",
   "execution_count": null,
   "id": "3fc6f897-0bc4-4c75-9e54-e5e3041c52dc",
   "metadata": {
    "scrolled": true
   },
   "outputs": [],
   "source": [
    "runWorkload(\n",
    "    \"QUERY_BATCH_SEQ\",\n",
    "    targetThreads,\n",
    "    server_local_ips[server_ips[0]],\n",
    "    9492,\n",
    "    \"InfluxDB\",\n",
    "    client_ips,\n",
    "    100,\n",
    "    1000,\n",
    "    serverGroup,\n",
    "    SERVER_WORKING_DIR,\n",
    "    \"ubuntu\",\n",
    ")\n"
   ]
  },
  {
   "cell_type": "markdown",
   "id": "b48eec5e-0a5d-4136-8653-56cc8cb54cb9",
   "metadata": {},
   "source": [
    "**Visualization**"
   ]
  },
  {
   "cell_type": "code",
   "execution_count": null,
   "id": "a4c53575-3cf6-44de-8a7c-658993c54fe8",
   "metadata": {},
   "outputs": [],
   "source": [
    "batchPlots(\"QUERY_BATCH_SEQ\", \"InfluxDB\", targetThreads, client_ips, 100)\n"
   ]
  }
 ],
 "metadata": {
  "kernelspec": {
   "display_name": "base",
   "language": "python",
   "name": "python3"
  },
  "language_info": {
   "codemirror_mode": {
    "name": "ipython",
    "version": 3
   },
   "file_extension": ".py",
   "mimetype": "text/x-python",
   "name": "python",
   "nbconvert_exporter": "python",
   "pygments_lexer": "ipython3",
   "version": "3.11.4"
  }
 },
 "nbformat": 4,
 "nbformat_minor": 5
}
