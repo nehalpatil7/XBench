{
 "cells": [
  {
   "cell_type": "code",
   "execution_count": 1,
   "metadata": {},
   "outputs": [],
   "source": [
    "from fabric import ThreadingGroup, Connection\n",
    "from chi import server, ssh\n",
    "import os\n",
    "import warnings\n",
    "import time\n",
    "import sys\n",
    "\n",
    "sys.path.append(\"../../scripts\")\n",
    "from utilities import *\n",
    "\n",
    "warnings.filterwarnings(\"ignore\")\n"
   ]
  },
  {
   "cell_type": "markdown",
   "metadata": {},
   "source": [
    "> CONFIG"
   ]
  },
  {
   "cell_type": "code",
   "execution_count": 2,
   "metadata": {},
   "outputs": [],
   "source": [
    "sshUser = \"ubuntu\"\n",
    "server_ips = [\"64.131.114.157\"]\n",
    "server_local_ips = {}\n",
    "client_ips = [\"64.131.114.158\"]\n",
    "\n",
    "storageType = {\"HDD\": \"/HDD\", \"NVME\": \"/NVME_RAID-0\"}\n",
    "SERVER_WORKING_DIR = storageType[\"NVME\"]\n"
   ]
  },
  {
   "cell_type": "code",
   "execution_count": 3,
   "metadata": {},
   "outputs": [],
   "source": [
    "# These groups are for processing in parallel\n",
    "serverConnections = [Connection(i, user=sshUser) for i in server_ips]\n",
    "clientConnections = [Connection(i, user=sshUser) for i in client_ips]\n",
    "allConnections = serverConnections + clientConnections\n",
    "serverGroup = ThreadingGroup.from_connections(serverConnections)\n",
    "clientGroup = ThreadingGroup.from_connections(clientConnections)\n",
    "allGroup = ThreadingGroup.from_connections(allConnections)\n",
    "\n",
    "# Get local IP for server\n",
    "local_ips = serverGroup.run(\"hostname -I | cut -d ' ' -f 1\", hide=True)\n",
    "for i in local_ips:\n",
    "    server_local_ips[i.host] = local_ips[i].stdout.strip()\n"
   ]
  },
  {
   "cell_type": "code",
   "execution_count": 4,
   "metadata": {},
   "outputs": [],
   "source": [
    "targetThreads = [1]\n",
    "numClients = [i * len(client_ips) for i in targetThreads]\n"
   ]
  },
  {
   "cell_type": "markdown",
   "metadata": {},
   "source": [
    "> INSTALLATION"
   ]
  },
  {
   "cell_type": "code",
   "execution_count": 5,
   "metadata": {},
   "outputs": [],
   "source": [
    "time.sleep(2)\n",
    "\n",
    "for ip in server_ips + client_ips:\n",
    "    server.wait_for_tcp(ip, 22, timeout=1200)\n"
   ]
  },
  {
   "cell_type": "code",
   "execution_count": null,
   "metadata": {},
   "outputs": [],
   "source": [
    "serverGroup.put(\"../../scripts/TimescaleDB/initTimescaleDBServer.sh\")\n",
    "serverGroup.run(f\"sudo chmod -R 777 {SERVER_WORKING_DIR}; bash initTimescaleDBServer.sh {SERVER_WORKING_DIR} true\")\n",
    "serverGroup.close()\n"
   ]
  },
  {
   "cell_type": "code",
   "execution_count": null,
   "metadata": {},
   "outputs": [],
   "source": [
    "clientGroup.put(\"../../scripts/initXBenchClient.sh\")\n",
    "clientGroup.run(\"bash initXBenchClient.sh\")\n",
    "clientGroup.close()\n"
   ]
  },
  {
   "cell_type": "code",
   "execution_count": null,
   "metadata": {},
   "outputs": [],
   "source": [
    "runWorkload(\n",
    "    \"INSERT_UNARY_SEQ\",\n",
    "    targetThreads,\n",
    "    server_local_ips[server_ips[0]],\n",
    "    9493,\n",
    "    \"TimescaleDB\",\n",
    "    client_ips,\n",
    "    10,\n",
    "    0,\n",
    "    serverGroup,\n",
    "    SERVER_WORKING_DIR,\n",
    "    \"ubuntu\",\n",
    ")\n"
   ]
  }
 ],
 "metadata": {
  "kernelspec": {
   "display_name": "base",
   "language": "python",
   "name": "python3"
  },
  "language_info": {
   "codemirror_mode": {
    "name": "ipython",
    "version": 3
   },
   "file_extension": ".py",
   "mimetype": "text/x-python",
   "name": "python",
   "nbconvert_exporter": "python",
   "pygments_lexer": "ipython3",
   "version": "3.11.4"
  }
 },
 "nbformat": 4,
 "nbformat_minor": 2
}
