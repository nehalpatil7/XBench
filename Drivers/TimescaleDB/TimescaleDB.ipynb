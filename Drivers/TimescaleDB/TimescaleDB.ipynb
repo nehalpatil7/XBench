{
 "cells": [
  {
   "cell_type": "markdown",
   "metadata": {},
   "source": [
    "# TimescaleDB Benchmarks – Big Experiments\n",
    "\n",
    "## Packages"
   ]
  },
  {
   "cell_type": "code",
   "execution_count": 1,
   "metadata": {},
   "outputs": [],
   "source": [
    "from fabric import ThreadingGroup, Connection\n",
    "from chi import server, ssh\n",
    "import os\n",
    "import warnings\n",
    "import time\n",
    "import sys\n",
    "\n",
    "sys.path.append(\"../../scripts\")\n",
    "from utilities import *\n",
    "\n",
    "warnings.filterwarnings(\"ignore\")\n"
   ]
  },
  {
   "cell_type": "markdown",
   "metadata": {},
   "source": [
    "## Configurations"
   ]
  },
  {
   "cell_type": "code",
   "execution_count": 2,
   "metadata": {},
   "outputs": [],
   "source": [
    "sshUser = \"ubuntu\"\n",
    "server_ips = [\"64.131.114.157\"]\n",
    "server_local_ips = {}\n",
    "client_ips = [\"64.131.114.158\"]\n",
    "\n",
    "storageType = {\"HDD\": \"/HDD\", \"NVME\": \"/NVME_RAID-0\"}\n",
    "SERVER_WORKING_DIR = storageType[\"NVME\"]\n"
   ]
  },
  {
   "cell_type": "markdown",
   "metadata": {},
   "source": [
    "## Initialize ENV"
   ]
  },
  {
   "cell_type": "code",
   "execution_count": 3,
   "metadata": {},
   "outputs": [],
   "source": [
    "# These groups are for processing in parallel\n",
    "serverConnections = [Connection(i, user=sshUser) for i in server_ips]\n",
    "clientConnections = [Connection(i, user=sshUser) for i in client_ips]\n",
    "allConnections = serverConnections + clientConnections\n",
    "serverGroup = ThreadingGroup.from_connections(serverConnections)\n",
    "clientGroup = ThreadingGroup.from_connections(clientConnections)\n",
    "allGroup = ThreadingGroup.from_connections(allConnections)\n",
    "\n",
    "# Get local IP for server\n",
    "local_ips = serverGroup.run(\"hostname -I | cut -d ' ' -f 1\", hide=True)\n",
    "for i in local_ips:\n",
    "    server_local_ips[i.host] = local_ips[i].stdout.strip()\n"
   ]
  },
  {
   "cell_type": "code",
   "execution_count": 4,
   "metadata": {},
   "outputs": [],
   "source": [
    "# Update & Upgrade latest packages\n",
    "allGroup.run(f\"sudo apt update; sudo apt upgrade -y; sudo shutdown -r +1\", hide=True)\n",
    "allGroup.close()\n"
   ]
  },
  {
   "cell_type": "markdown",
   "metadata": {},
   "source": [
    "> Wait for all servers to come online after reboot"
   ]
  },
  {
   "cell_type": "code",
   "execution_count": 5,
   "metadata": {},
   "outputs": [],
   "source": [
    "# Buffer of reboot\n",
    "time.sleep(70)\n",
    "\n",
    "for ip in server_ips + client_ips:\n",
    "    server.wait_for_tcp(ip, 22, timeout=1200)\n"
   ]
  },
  {
   "cell_type": "markdown",
   "metadata": {},
   "source": [
    "## Dataset\n",
    "> Prepare on client nodes"
   ]
  },
  {
   "cell_type": "code",
   "execution_count": 6,
   "metadata": {},
   "outputs": [],
   "source": [
    "clientGroup.put(\"../../scripts/initData.sh\")\n",
    "clientGroup.run(\"bash initData.sh\", hide=True)\n",
    "clientGroup.close()\n"
   ]
  },
  {
   "cell_type": "markdown",
   "metadata": {},
   "source": [
    "## Benchmark server (TimescaleDB)\n",
    "> Prepare benchmark server"
   ]
  },
  {
   "cell_type": "code",
   "execution_count": 7,
   "metadata": {},
   "outputs": [],
   "source": [
    "serverGroup.put(\"../../scripts/TimescaleDB/initTimescaleDBServer.sh\")\n",
    "serverGroup.run(\n",
    "    f\"sudo chmod -R 777 {SERVER_WORKING_DIR}; bash initTimescaleDBServer.sh {SERVER_WORKING_DIR} true\",\n",
    "    hide=True,\n",
    ")\n",
    "serverGroup.close()\n"
   ]
  },
  {
   "cell_type": "markdown",
   "metadata": {},
   "source": [
    "## Benchmark client (XBench)\n",
    "> Prepare benchmark client"
   ]
  },
  {
   "cell_type": "code",
   "execution_count": 8,
   "metadata": {},
   "outputs": [],
   "source": [
    "clientGroup.put(\"../../scripts/initXBenchClient.sh\")\n",
    "clientGroup.run(\"bash initXBenchClient.sh\", hide=True)\n",
    "clientGroup.close()\n"
   ]
  },
  {
   "cell_type": "markdown",
   "metadata": {},
   "source": [
    "## Experiment - Settings"
   ]
  },
  {
   "cell_type": "code",
   "execution_count": 9,
   "metadata": {},
   "outputs": [],
   "source": [
    "targetThreads = [1, 2, 4, 8]\n",
    "numClients = [i * len(client_ips) for i in targetThreads]\n"
   ]
  },
  {
   "cell_type": "markdown",
   "metadata": {},
   "source": [
    "## Experiment – UNARY INSERT (SEQ)\n",
    "> Perform experiments\n"
   ]
  },
  {
   "cell_type": "code",
   "execution_count": 10,
   "metadata": {},
   "outputs": [
    {
     "name": "stdout",
     "output_type": "stream",
     "text": [
      "Purging existing dataStore & Starting TimescaleDB server...\n"
     ]
    },
    {
     "name": "stderr",
     "output_type": "stream",
     "text": [
      "could not change directory to \"/home/ubuntu\": Permission denied\n"
     ]
    },
    {
     "name": "stdout",
     "output_type": "stream",
     "text": [
      "DROP DATABASE\n"
     ]
    },
    {
     "name": "stderr",
     "output_type": "stream",
     "text": [
      "could not change directory to \"/home/ubuntu\": Permission denied\n"
     ]
    },
    {
     "name": "stdout",
     "output_type": "stream",
     "text": [
      "CREATE DATABASE\n"
     ]
    },
    {
     "name": "stderr",
     "output_type": "stream",
     "text": [
      "could not change directory to \"/home/ubuntu\": Permission denied\n"
     ]
    },
    {
     "name": "stdout",
     "output_type": "stream",
     "text": [
      "CREATE EXTENSION\n",
      "TimescaleDB server is ready.\n"
     ]
    },
    {
     "name": "stderr",
     "output_type": "stream",
     "text": [
      "error connecting to /tmp/tmux-1000/default (No such file or directory)\n"
     ]
    },
    {
     "name": "stdout",
     "output_type": "stream",
     "text": [
      "[Benchmark: 1] - Schedule workload on 1744406630\n",
      "[Benchmark: 1] [Client: 64.131.114.158] - Time now: 1744406578 | Delta: 52\n",
      "Error checking tmux status: 'GroupResult' object has no attribute 'exited'\n",
      "Error checking tmux status: 'GroupResult' object has no attribute 'exited'\n",
      "Error checking tmux status: 'GroupResult' object has no attribute 'exited'\n",
      "Error checking tmux status: 'GroupResult' object has no attribute 'exited'\n",
      "Error checking tmux status: 'GroupResult' object has no attribute 'exited'\n",
      "Error checking tmux status: 'GroupResult' object has no attribute 'exited'\n",
      "Error checking tmux status: 'GroupResult' object has no attribute 'exited'\n",
      "Error checking tmux status: 'GroupResult' object has no attribute 'exited'\n",
      "Error checking tmux status: 'GroupResult' object has no attribute 'exited'\n",
      "Error checking tmux status: 'GroupResult' object has no attribute 'exited'\n",
      "Error checking tmux status: 'GroupResult' object has no attribute 'exited'\n",
      "Error checking tmux status: 'GroupResult' object has no attribute 'exited'\n",
      "Error checking tmux status: 'GroupResult' object has no attribute 'exited'\n",
      "Error checking tmux status: 'GroupResult' object has no attribute 'exited'\n",
      "Error checking tmux status: 'GroupResult' object has no attribute 'exited'\n",
      "Error checking tmux status: 'GroupResult' object has no attribute 'exited'\n",
      "Error checking tmux status: 'GroupResult' object has no attribute 'exited'\n",
      "Error checking tmux status: 'GroupResult' object has no attribute 'exited'\n",
      "Error checking tmux status: 'GroupResult' object has no attribute 'exited'\n",
      "Error checking tmux status: 'GroupResult' object has no attribute 'exited'\n",
      "Error checking tmux status: 'GroupResult' object has no attribute 'exited'\n",
      "Error checking tmux status: 'GroupResult' object has no attribute 'exited'\n",
      "Error checking tmux status: 'GroupResult' object has no attribute 'exited'\n",
      "Error checking tmux status: 'GroupResult' object has no attribute 'exited'\n",
      "Error checking tmux status: 'GroupResult' object has no attribute 'exited'\n",
      "Error checking tmux status: 'GroupResult' object has no attribute 'exited'\n",
      "Error checking tmux status: 'GroupResult' object has no attribute 'exited'\n",
      "Error checking tmux status: 'GroupResult' object has no attribute 'exited'\n",
      "Error checking tmux status: 'GroupResult' object has no attribute 'exited'\n",
      "Error checking tmux status: 'GroupResult' object has no attribute 'exited'\n",
      "Warning: Job check timed out after 300 seconds\n",
      "Warning: Job may not have completed successfully\n",
      "INSERT-UNARY_SEQ_Client-0.csv\n",
      "[Benchmark: 1] [Client: 64.131.114.158] - Downloaded 1 result files\n",
      "cpu.txt\n",
      "io.txt\n",
      "mem.txt\n",
      "[Benchmark: 1] [Server] - Downloaded system stats files\n",
      "Purging existing dataStore & Starting TimescaleDB server...\n"
     ]
    },
    {
     "name": "stderr",
     "output_type": "stream",
     "text": [
      "could not change directory to \"/home/ubuntu\": Permission denied\n"
     ]
    },
    {
     "name": "stdout",
     "output_type": "stream",
     "text": [
      "DROP DATABASE\n"
     ]
    },
    {
     "name": "stderr",
     "output_type": "stream",
     "text": [
      "could not change directory to \"/home/ubuntu\": Permission denied\n"
     ]
    },
    {
     "name": "stdout",
     "output_type": "stream",
     "text": [
      "CREATE DATABASE\n"
     ]
    },
    {
     "name": "stderr",
     "output_type": "stream",
     "text": [
      "could not change directory to \"/home/ubuntu\": Permission denied\n"
     ]
    },
    {
     "name": "stdout",
     "output_type": "stream",
     "text": [
      "CREATE EXTENSION\n",
      "TimescaleDB server is ready.\n",
      "[Benchmark: 2] - Schedule workload on 1744407108\n",
      "[Benchmark: 2] [Client: 64.131.114.158] - Time now: 1744407055 | Delta: 53\n",
      "Error checking tmux status: 'GroupResult' object has no attribute 'exited'\n",
      "Error checking tmux status: 'GroupResult' object has no attribute 'exited'\n",
      "Error checking tmux status: 'GroupResult' object has no attribute 'exited'\n",
      "Error checking tmux status: 'GroupResult' object has no attribute 'exited'\n",
      "Error checking tmux status: 'GroupResult' object has no attribute 'exited'\n",
      "Error checking tmux status: 'GroupResult' object has no attribute 'exited'\n",
      "Error checking tmux status: 'GroupResult' object has no attribute 'exited'\n",
      "Error checking tmux status: 'GroupResult' object has no attribute 'exited'\n",
      "Error checking tmux status: 'GroupResult' object has no attribute 'exited'\n",
      "Error checking tmux status: 'GroupResult' object has no attribute 'exited'\n",
      "Error checking tmux status: 'GroupResult' object has no attribute 'exited'\n",
      "Error checking tmux status: 'GroupResult' object has no attribute 'exited'\n",
      "Error checking tmux status: 'GroupResult' object has no attribute 'exited'\n",
      "Error checking tmux status: 'GroupResult' object has no attribute 'exited'\n",
      "Error checking tmux status: 'GroupResult' object has no attribute 'exited'\n",
      "Error checking tmux status: 'GroupResult' object has no attribute 'exited'\n",
      "Error checking tmux status: 'GroupResult' object has no attribute 'exited'\n",
      "Error checking tmux status: 'GroupResult' object has no attribute 'exited'\n",
      "Error checking tmux status: 'GroupResult' object has no attribute 'exited'\n",
      "Error checking tmux status: 'GroupResult' object has no attribute 'exited'\n",
      "Error checking tmux status: 'GroupResult' object has no attribute 'exited'\n",
      "Error checking tmux status: 'GroupResult' object has no attribute 'exited'\n",
      "Error checking tmux status: 'GroupResult' object has no attribute 'exited'\n",
      "Error checking tmux status: 'GroupResult' object has no attribute 'exited'\n",
      "Error checking tmux status: 'GroupResult' object has no attribute 'exited'\n",
      "Error checking tmux status: 'GroupResult' object has no attribute 'exited'\n",
      "Error checking tmux status: 'GroupResult' object has no attribute 'exited'\n",
      "Error checking tmux status: 'GroupResult' object has no attribute 'exited'\n",
      "Error checking tmux status: 'GroupResult' object has no attribute 'exited'\n",
      "Error checking tmux status: 'GroupResult' object has no attribute 'exited'\n",
      "Warning: Job check timed out after 300 seconds\n",
      "Warning: Job may not have completed successfully\n",
      "INSERT-UNARY_SEQ_Client-0.csv\n",
      "INSERT-UNARY_SEQ_Client-1.csv\n",
      "[Benchmark: 2] [Client: 64.131.114.158] - Downloaded 2 result files\n",
      "cpu.txt\n",
      "io.txt\n",
      "mem.txt\n",
      "[Benchmark: 2] [Server] - Downloaded system stats files\n",
      "Purging existing dataStore & Starting TimescaleDB server...\n"
     ]
    },
    {
     "name": "stderr",
     "output_type": "stream",
     "text": [
      "could not change directory to \"/home/ubuntu\": Permission denied\n"
     ]
    },
    {
     "name": "stdout",
     "output_type": "stream",
     "text": [
      "DROP DATABASE\n"
     ]
    },
    {
     "name": "stderr",
     "output_type": "stream",
     "text": [
      "could not change directory to \"/home/ubuntu\": Permission denied\n"
     ]
    },
    {
     "name": "stdout",
     "output_type": "stream",
     "text": [
      "CREATE DATABASE\n"
     ]
    },
    {
     "name": "stderr",
     "output_type": "stream",
     "text": [
      "could not change directory to \"/home/ubuntu\": Permission denied\n"
     ]
    },
    {
     "name": "stdout",
     "output_type": "stream",
     "text": [
      "CREATE EXTENSION\n",
      "TimescaleDB server is ready.\n",
      "[Benchmark: 4] - Schedule workload on 1744407592\n",
      "[Benchmark: 4] [Client: 64.131.114.158] - Time now: 1744407539 | Delta: 53\n"
     ]
    },
    {
     "ename": "KeyboardInterrupt",
     "evalue": "",
     "output_type": "error",
     "traceback": [
      "\u001b[0;31m---------------------------------------------------------------------------\u001b[0m",
      "\u001b[0;31mKeyboardInterrupt\u001b[0m                         Traceback (most recent call last)",
      "Cell \u001b[0;32mIn[10], line 1\u001b[0m\n\u001b[0;32m----> 1\u001b[0m runWorkload(\n\u001b[1;32m      2\u001b[0m     \u001b[38;5;124m\"\u001b[39m\u001b[38;5;124mINSERT_UNARY_SEQ\u001b[39m\u001b[38;5;124m\"\u001b[39m,\n\u001b[1;32m      3\u001b[0m     targetThreads,\n\u001b[1;32m      4\u001b[0m     server_local_ips[server_ips[\u001b[38;5;241m0\u001b[39m]],\n\u001b[1;32m      5\u001b[0m     \u001b[38;5;241m9493\u001b[39m,\n\u001b[1;32m      6\u001b[0m     \u001b[38;5;124m\"\u001b[39m\u001b[38;5;124mTimescaleDB\u001b[39m\u001b[38;5;124m\"\u001b[39m,\n\u001b[1;32m      7\u001b[0m     client_ips,\n\u001b[1;32m      8\u001b[0m     \u001b[38;5;241m1000\u001b[39m,\n\u001b[1;32m      9\u001b[0m     \u001b[38;5;241m0\u001b[39m,\n\u001b[1;32m     10\u001b[0m     serverGroup,\n\u001b[1;32m     11\u001b[0m     SERVER_WORKING_DIR,\n\u001b[1;32m     12\u001b[0m     \u001b[38;5;124m\"\u001b[39m\u001b[38;5;124mubuntu\u001b[39m\u001b[38;5;124m\"\u001b[39m,\n\u001b[1;32m     13\u001b[0m )\n",
      "File \u001b[0;32m~/Downloads/IITC/Work/RA2/XBench/Drivers/TimescaleDB/../../scripts/utilities.py:13\u001b[0m, in \u001b[0;36mrunWorkload\u001b[0;34m(EXPERIMENT_TYPE, targetThreads, serverNode, serverPort, dbName, clientNodes, nIter, batchIter, serverGroup, serverWorkingDir, user)\u001b[0m\n\u001b[1;32m     11\u001b[0m \u001b[38;5;28;01mdef\u001b[39;00m \u001b[38;5;21mrunWorkload\u001b[39m(EXPERIMENT_TYPE, targetThreads, serverNode, serverPort, dbName, clientNodes, nIter, batchIter, serverGroup, serverWorkingDir, user\u001b[38;5;241m=\u001b[39m\u001b[38;5;124m\"\u001b[39m\u001b[38;5;124mcc\u001b[39m\u001b[38;5;124m\"\u001b[39m):\n\u001b[1;32m     12\u001b[0m     \u001b[38;5;66;03m# Running single client tests first (Thread: 1, 2, 4)\u001b[39;00m\n\u001b[0;32m---> 13\u001b[0m     runWorkload_singleClient(EXPERIMENT_TYPE, [\u001b[38;5;241m1\u001b[39m, \u001b[38;5;241m2\u001b[39m, \u001b[38;5;241m4\u001b[39m], serverNode, serverPort, dbName, clientNodes[\u001b[38;5;241m0\u001b[39m], nIter, batchIter, serverGroup, serverWorkingDir, user)\n\u001b[1;32m     15\u001b[0m     WORKLOAD_TYPE \u001b[38;5;241m=\u001b[39m EXPERIMENT_TYPE\u001b[38;5;241m.\u001b[39msplit(\u001b[38;5;124m\"\u001b[39m\u001b[38;5;124m_\u001b[39m\u001b[38;5;124m\"\u001b[39m)[\u001b[38;5;241m0\u001b[39m]\n\u001b[1;32m     16\u001b[0m     EXPERIMENT_TYPE \u001b[38;5;241m=\u001b[39m EXPERIMENT_TYPE[\u001b[38;5;28mlen\u001b[39m(WORKLOAD_TYPE) \u001b[38;5;241m+\u001b[39m \u001b[38;5;241m1\u001b[39m:]\n",
      "File \u001b[0;32m~/Downloads/IITC/Work/RA2/XBench/Drivers/TimescaleDB/../../scripts/utilities.py:165\u001b[0m, in \u001b[0;36mrunWorkload_singleClient\u001b[0;34m(EXPERIMENT_TYPE, targetThreads, serverNode, serverPort, dbName, clientNode, nIter, batchIter, serverGroup, serverWorkingDir, user)\u001b[0m\n\u001b[1;32m    162\u001b[0m \u001b[38;5;28mprint\u001b[39m(\u001b[38;5;124mf\u001b[39m\u001b[38;5;124m\"\u001b[39m\u001b[38;5;124m[Benchmark: \u001b[39m\u001b[38;5;132;01m{\u001b[39;00mnumThread\u001b[38;5;132;01m}\u001b[39;00m\u001b[38;5;124m] [Client: \u001b[39m\u001b[38;5;132;01m{\u001b[39;00mclientNode\u001b[38;5;132;01m}\u001b[39;00m\u001b[38;5;124m] - Time now: \u001b[39m\u001b[38;5;132;01m{\u001b[39;00m\u001b[38;5;28mint\u001b[39m(time\u001b[38;5;241m.\u001b[39mtime())\u001b[38;5;132;01m}\u001b[39;00m\u001b[38;5;124m | Delta: \u001b[39m\u001b[38;5;132;01m{\u001b[39;00mepochTime\u001b[38;5;250m \u001b[39m\u001b[38;5;241m-\u001b[39m\u001b[38;5;250m \u001b[39m\u001b[38;5;28mint\u001b[39m(time\u001b[38;5;241m.\u001b[39mtime())\u001b[38;5;132;01m}\u001b[39;00m\u001b[38;5;124m\"\u001b[39m)\n\u001b[1;32m    164\u001b[0m \u001b[38;5;66;03m# Poll until and add 1 min delay buffer for workload to finish\u001b[39;00m\n\u001b[0;32m--> 165\u001b[0m poller(epochTime)\n\u001b[1;32m    166\u001b[0m time\u001b[38;5;241m.\u001b[39msleep(\u001b[38;5;241m60\u001b[39m)\n\u001b[1;32m    168\u001b[0m \u001b[38;5;66;03m# Checking for job completion with timeout\u001b[39;00m\n",
      "File \u001b[0;32m~/Downloads/IITC/Work/RA2/XBench/Drivers/TimescaleDB/../../scripts/utilities.py:350\u001b[0m, in \u001b[0;36mpoller\u001b[0;34m(epochTime)\u001b[0m\n\u001b[1;32m    348\u001b[0m \u001b[38;5;28;01mdef\u001b[39;00m \u001b[38;5;21mpoller\u001b[39m(epochTime):\n\u001b[1;32m    349\u001b[0m     \u001b[38;5;28;01mwhile\u001b[39;00m time\u001b[38;5;241m.\u001b[39mtime() \u001b[38;5;241m<\u001b[39m\u001b[38;5;241m=\u001b[39m epochTime:\n\u001b[0;32m--> 350\u001b[0m         time\u001b[38;5;241m.\u001b[39msleep(\u001b[38;5;241m1\u001b[39m)\n",
      "\u001b[0;31mKeyboardInterrupt\u001b[0m: "
     ]
    }
   ],
   "source": [
    "runWorkload(\n",
    "    \"INSERT_UNARY_SEQ\",\n",
    "    targetThreads,\n",
    "    server_local_ips[server_ips[0]],\n",
    "    9493,\n",
    "    \"TimescaleDB\",\n",
    "    client_ips,\n",
    "    1000,\n",
    "    0,\n",
    "    serverGroup,\n",
    "    SERVER_WORKING_DIR,\n",
    "    \"ubuntu\",\n",
    ")\n"
   ]
  },
  {
   "cell_type": "markdown",
   "metadata": {},
   "source": [
    "> Visualization"
   ]
  },
  {
   "cell_type": "code",
   "execution_count": null,
   "metadata": {},
   "outputs": [],
   "source": [
    "unaryPlots(\"INSERT_UNARY_SEQ\", \"TimescaleDB\", targetThreads, client_ips, logScale=True)\n"
   ]
  },
  {
   "cell_type": "markdown",
   "metadata": {},
   "source": [
    "## Experiment – UNARY INSERT (RND)\n",
    "> Perform experiments\n"
   ]
  },
  {
   "cell_type": "code",
   "execution_count": null,
   "metadata": {},
   "outputs": [],
   "source": [
    "runWorkload(\n",
    "    \"INSERT_UNARY_RAND\",\n",
    "    targetThreads,\n",
    "    server_local_ips[server_ips[0]],\n",
    "    9493,\n",
    "    \"TimescaleDB\",\n",
    "    client_ips,\n",
    "    1000,\n",
    "    0,\n",
    "    serverGroup,\n",
    "    SERVER_WORKING_DIR,\n",
    "    \"ubuntu\",\n",
    ")\n"
   ]
  },
  {
   "cell_type": "markdown",
   "metadata": {},
   "source": [
    "> Visualization"
   ]
  },
  {
   "cell_type": "code",
   "execution_count": null,
   "metadata": {},
   "outputs": [],
   "source": [
    "unaryPlots(\"INSERT_UNARY_RAND\", \"TimescaleDB\", targetThreads, client_ips, logScale=True)\n"
   ]
  },
  {
   "cell_type": "markdown",
   "metadata": {},
   "source": [
    "## Experiment – BATCH INSERT (SEQ)\n",
    "> Perform experiments\n"
   ]
  },
  {
   "cell_type": "code",
   "execution_count": null,
   "metadata": {},
   "outputs": [],
   "source": [
    "runWorkload(\n",
    "    \"INSERT_BATCH_SEQ\",\n",
    "    targetThreads,\n",
    "    server_local_ips[server_ips[0]],\n",
    "    9493,\n",
    "    \"TimescaleDB\",\n",
    "    client_ips,\n",
    "    1000,\n",
    "    10,\n",
    "    serverGroup,\n",
    "    SERVER_WORKING_DIR,\n",
    "    \"ubuntu\",\n",
    ")\n"
   ]
  },
  {
   "cell_type": "markdown",
   "metadata": {},
   "source": [
    "> Visualization"
   ]
  },
  {
   "cell_type": "code",
   "execution_count": null,
   "metadata": {},
   "outputs": [],
   "source": [
    "batchPlots(\"INSERT_BATCH_SEQ\", \"TimescaleDB\", targetThreads, client_ips)\n"
   ]
  },
  {
   "cell_type": "markdown",
   "metadata": {},
   "source": [
    "## Experiment – BATCH INSERT (RND)\n",
    "> Perform experiments\n"
   ]
  },
  {
   "cell_type": "code",
   "execution_count": null,
   "metadata": {},
   "outputs": [],
   "source": [
    "runWorkload(\n",
    "    \"INSERT_BATCH_RAND\",\n",
    "    targetThreads,\n",
    "    server_local_ips[server_ips[0]],\n",
    "    9493,\n",
    "    \"TimescaleDB\",\n",
    "    client_ips,\n",
    "    1000,\n",
    "    10,\n",
    "    serverGroup,\n",
    "    SERVER_WORKING_DIR,\n",
    "    \"ubuntu\",\n",
    ")\n"
   ]
  },
  {
   "cell_type": "markdown",
   "metadata": {},
   "source": [
    "> Visualization"
   ]
  },
  {
   "cell_type": "code",
   "execution_count": null,
   "metadata": {},
   "outputs": [],
   "source": [
    "batchPlots(\"INSERT_BATCH_RAND\", \"TimescaleDB\", targetThreads, client_ips)\n"
   ]
  },
  {
   "cell_type": "markdown",
   "metadata": {},
   "source": [
    "## Bootstrap Database\n",
    "\n",
    "> Reboot server to a fresh state to avoid becoming non-accessible from public network"
   ]
  },
  {
   "cell_type": "code",
   "execution_count": null,
   "metadata": {},
   "outputs": [],
   "source": [
    "allGroup.run(f\"sudo shutdown -r +1\", hide=True)\n",
    "allGroup.close()\n",
    "\n",
    "# Buffer of reboot\n",
    "time.sleep(70)\n",
    "\n",
    "for ip in server_ips + client_ips:\n",
    "    server.wait_for_tcp(ip, 22, timeout=1200)\n"
   ]
  },
  {
   "cell_type": "markdown",
   "metadata": {},
   "source": [
    "<div class=\"alert alert-block alert-info\">Note: This is required so that there's actual data for clients to query from</div>"
   ]
  },
  {
   "cell_type": "code",
   "execution_count": null,
   "metadata": {},
   "outputs": [],
   "source": [
    "serverGroup.put(\"../scripts/restoreDB.sh\")\n",
    "serverGroup.close()\n",
    "\n",
    "# Restore DB\n",
    "serverGroup.run(f\"bash restoreDB.sh CHI@UC TimescaleDB {SERVER_WORKING_DIR}\", hide=True)\n",
    "serverGroup.close()\n",
    "\n",
    "# Keep checking if job is done running in tmux window\n",
    "checkTmuxJobIsDone(serverGroup)\n"
   ]
  },
  {
   "cell_type": "markdown",
   "metadata": {},
   "source": [
    "## Experiment – UNARY QUERY (SEQ)\n",
    "> Perform experiments\n"
   ]
  },
  {
   "cell_type": "code",
   "execution_count": null,
   "metadata": {},
   "outputs": [],
   "source": [
    "runWorkload(\n",
    "    \"QUERY_UNARY_SEQ\",\n",
    "    targetThreads,\n",
    "    server_local_ips[server_ips[0]],\n",
    "    9493,\n",
    "    \"TimescaleDB\",\n",
    "    client_ips,\n",
    "    1000,\n",
    "    0,\n",
    "    serverGroup,\n",
    "    SERVER_WORKING_DIR,\n",
    "    \"ubuntu\",\n",
    ")\n"
   ]
  },
  {
   "cell_type": "markdown",
   "metadata": {},
   "source": [
    "> Visualization"
   ]
  },
  {
   "cell_type": "code",
   "execution_count": null,
   "metadata": {},
   "outputs": [],
   "source": [
    "unaryPlots(\"QUERY_UNARY_SEQ\", \"TimescaleDB\", targetThreads, client_ips, logScale=True)\n"
   ]
  },
  {
   "cell_type": "markdown",
   "metadata": {},
   "source": [
    "## Experiment – UNARY QUERY (RND)\n",
    "> Perform experiments"
   ]
  },
  {
   "cell_type": "code",
   "execution_count": null,
   "metadata": {},
   "outputs": [],
   "source": [
    "runWorkload(\n",
    "    \"QUERY_UNARY_RAND\",\n",
    "    targetThreads,\n",
    "    server_local_ips[server_ips[0]],\n",
    "    9493,\n",
    "    \"TimescaleDB\",\n",
    "    client_ips,\n",
    "    1000,\n",
    "    0,\n",
    "    serverGroup,\n",
    "    SERVER_WORKING_DIR,\n",
    "    \"ubuntu\",\n",
    ")\n"
   ]
  },
  {
   "cell_type": "markdown",
   "metadata": {},
   "source": [
    "> Visualization"
   ]
  },
  {
   "cell_type": "code",
   "execution_count": null,
   "metadata": {},
   "outputs": [],
   "source": [
    "unaryPlots(\"QUERY_UNARY_RAND\", \"TimescaleDB\", targetThreads, client_ips)\n"
   ]
  },
  {
   "cell_type": "markdown",
   "metadata": {},
   "source": [
    "## Experiment – BATCH QUERY (SEQ)\n",
    "> Perform experiments\n"
   ]
  },
  {
   "cell_type": "code",
   "execution_count": null,
   "metadata": {},
   "outputs": [],
   "source": [
    "runWorkload(\n",
    "    \"QUERY_BATCH_SEQ\",\n",
    "    targetThreads,\n",
    "    server_local_ips[server_ips[0]],\n",
    "    9493,\n",
    "    \"TimescaleDB\",\n",
    "    client_ips,\n",
    "    100,\n",
    "    1000,\n",
    "    serverGroup,\n",
    "    SERVER_WORKING_DIR,\n",
    "    \"ubuntu\",\n",
    ")\n"
   ]
  },
  {
   "cell_type": "markdown",
   "metadata": {},
   "source": [
    "> Visualization"
   ]
  },
  {
   "cell_type": "code",
   "execution_count": null,
   "metadata": {},
   "outputs": [],
   "source": [
    "batchPlots(\"QUERY_BATCH_SEQ\", \"TimescaleDB\", targetThreads, client_ips, 100)\n"
   ]
  },
  {
   "cell_type": "markdown",
   "metadata": {},
   "source": [
    "## Experiment – BATCH QUERY (RND)\n",
    "> Perform experiments\n"
   ]
  },
  {
   "cell_type": "code",
   "execution_count": null,
   "metadata": {},
   "outputs": [],
   "source": [
    "runWorkload(\n",
    "    \"QUERY_BATCH_RAND\",\n",
    "    targetThreads,\n",
    "    server_local_ips[server_ips[0]],\n",
    "    9493,\n",
    "    \"TimescaleDB\",\n",
    "    client_ips,\n",
    "    1000,\n",
    "    10,\n",
    "    serverGroup,\n",
    "    SERVER_WORKING_DIR,\n",
    "    \"ubuntu\",\n",
    ")\n"
   ]
  },
  {
   "cell_type": "markdown",
   "metadata": {},
   "source": [
    "> Visualization"
   ]
  },
  {
   "cell_type": "code",
   "execution_count": null,
   "metadata": {},
   "outputs": [],
   "source": [
    "batchPlots(\"QUERY_BATCH_RAND\", \"TimescaleDB\", targetThreads, client_ips)\n"
   ]
  }
 ],
 "metadata": {
  "kernelspec": {
   "display_name": "base",
   "language": "python",
   "name": "python3"
  },
  "language_info": {
   "codemirror_mode": {
    "name": "ipython",
    "version": 3
   },
   "file_extension": ".py",
   "mimetype": "text/x-python",
   "name": "python",
   "nbconvert_exporter": "python",
   "pygments_lexer": "ipython3",
   "version": "3.11.4"
  }
 },
 "nbformat": 4,
 "nbformat_minor": 2
}
