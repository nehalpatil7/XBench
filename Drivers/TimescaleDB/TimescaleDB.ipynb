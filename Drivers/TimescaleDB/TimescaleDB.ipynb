{
 "cells": [
  {
   "cell_type": "markdown",
   "metadata": {},
   "source": [
    "# TimescaleDB Benchmarks – Big Experiments\n",
    "\n",
    "## Packages"
   ]
  },
  {
   "cell_type": "code",
   "execution_count": 7,
   "metadata": {},
   "outputs": [],
   "source": [
    "from fabric import ThreadingGroup, Connection\n",
    "from chi import server, ssh\n",
    "import os\n",
    "import warnings\n",
    "import time\n",
    "import sys\n",
    "\n",
    "sys.path.append(\"../../scripts\")\n",
    "from utilities import *\n",
    "\n",
    "warnings.filterwarnings(\"ignore\")\n"
   ]
  },
  {
   "cell_type": "markdown",
   "metadata": {},
   "source": [
    "## Configurations"
   ]
  },
  {
   "cell_type": "code",
   "execution_count": 8,
   "metadata": {},
   "outputs": [],
   "source": [
    "sshUser = \"ubuntu\"\n",
    "server_ips = [\"64.131.114.157\"]\n",
    "server_local_ips = {}\n",
    "client_ips = [\"64.131.114.158\"]\n",
    "\n",
    "storageType = {\"HDD\": \"/HDD\", \"NVME\": \"/NVME_RAID-0\"}\n",
    "SERVER_WORKING_DIR = storageType[\"NVME\"]\n"
   ]
  },
  {
   "cell_type": "markdown",
   "metadata": {},
   "source": [
    "## Initialize ENV"
   ]
  },
  {
   "cell_type": "code",
   "execution_count": 9,
   "metadata": {},
   "outputs": [],
   "source": [
    "# These groups are for processing in parallel\n",
    "serverConnections = [Connection(i, user=sshUser) for i in server_ips]\n",
    "clientConnections = [Connection(i, user=sshUser) for i in client_ips]\n",
    "allConnections = serverConnections + clientConnections\n",
    "serverGroup = ThreadingGroup.from_connections(serverConnections)\n",
    "clientGroup = ThreadingGroup.from_connections(clientConnections)\n",
    "allGroup = ThreadingGroup.from_connections(allConnections)\n",
    "\n",
    "# Get local IP for server\n",
    "local_ips = serverGroup.run(\"hostname -I | cut -d ' ' -f 1\", hide=True)\n",
    "for i in local_ips:\n",
    "    server_local_ips[i.host] = local_ips[i].stdout.strip()\n"
   ]
  },
  {
   "cell_type": "code",
   "execution_count": 4,
   "metadata": {},
   "outputs": [],
   "source": [
    "# Update & Upgrade latest packages\n",
    "allGroup.run(f\"sudo apt update; sudo apt upgrade -y; sudo shutdown -r +1\", hide=True)\n",
    "allGroup.close()\n"
   ]
  },
  {
   "cell_type": "markdown",
   "metadata": {},
   "source": [
    "> Wait for all servers to come online after reboot"
   ]
  },
  {
   "cell_type": "code",
   "execution_count": 5,
   "metadata": {},
   "outputs": [],
   "source": [
    "# Buffer of reboot\n",
    "time.sleep(70)\n",
    "\n",
    "for ip in server_ips + client_ips:\n",
    "    server.wait_for_tcp(ip, 22, timeout=1200)\n"
   ]
  },
  {
   "cell_type": "markdown",
   "metadata": {},
   "source": [
    "## Dataset\n",
    "> Prepare on client nodes"
   ]
  },
  {
   "cell_type": "code",
   "execution_count": 6,
   "metadata": {},
   "outputs": [],
   "source": [
    "clientGroup.put(\"../../scripts/initData.sh\")\n",
    "clientGroup.run(\"bash initData.sh\", hide=True)\n",
    "clientGroup.close()\n"
   ]
  },
  {
   "cell_type": "markdown",
   "metadata": {},
   "source": [
    "## Benchmark server (TimescaleDB)\n",
    "> Prepare benchmark server"
   ]
  },
  {
   "cell_type": "code",
   "execution_count": 14,
   "metadata": {},
   "outputs": [],
   "source": [
    "serverGroup.put(\"../../scripts/TimescaleDB/initTimescaleDBServer.sh\")\n",
    "serverGroup.run(\n",
    "    f\"sudo chmod -R 777 {SERVER_WORKING_DIR}; bash initTimescaleDBServer.sh {SERVER_WORKING_DIR} true\",\n",
    "    hide=True,\n",
    ")\n",
    "serverGroup.close()\n"
   ]
  },
  {
   "cell_type": "markdown",
   "metadata": {},
   "source": [
    "## Benchmark client (XBench)\n",
    "> Prepare benchmark client"
   ]
  },
  {
   "cell_type": "code",
   "execution_count": 17,
   "metadata": {},
   "outputs": [],
   "source": [
    "clientGroup.put(\"../../scripts/initXBenchClient.sh\")\n",
    "clientGroup.run(\"bash initXBenchClient.sh\", hide=True)\n",
    "clientGroup.close()\n"
   ]
  },
  {
   "cell_type": "markdown",
   "metadata": {},
   "source": [
    "## Experiment - Settings"
   ]
  },
  {
   "cell_type": "code",
   "execution_count": 10,
   "metadata": {},
   "outputs": [],
   "source": [
    "targetThreads = [1, 2, 4]\n",
    "numClients = [i * len(client_ips) for i in targetThreads]\n"
   ]
  },
  {
   "cell_type": "markdown",
   "metadata": {},
   "source": [
    "## Experiment – UNARY INSERT (SEQ)\n",
    "> Perform experiments\n"
   ]
  },
  {
   "cell_type": "code",
   "execution_count": 5,
   "metadata": {},
   "outputs": [
    {
     "name": "stdout",
     "output_type": "stream",
     "text": [
      "Purging existing dataStore & Starting TimescaleDB server...\n",
      "DROP DATABASE\n",
      "CREATE DATABASE\n",
      "CREATE EXTENSION\n",
      "TimescaleDB server is ready.\n",
      "[Benchmark: 1] - Schedule workload on 1744409292\n",
      "[Benchmark: 1] [Client: 64.131.114.158] - Time now: 1744409239 | Delta: 53\n",
      "checking tmux job status\n",
      "Active tmux sessions on 64.131.114.157:\n",
      "TimescaleDB: 2 windows (created Fri Apr 11 22:06:55 2025)\n",
      "checking tmux job status\n",
      "Active tmux sessions on 64.131.114.157:\n",
      "TimescaleDB: 2 windows (created Fri Apr 11 22:06:55 2025)\n",
      "checking tmux job status\n",
      "Active tmux sessions on 64.131.114.157:\n",
      "TimescaleDB: 2 windows (created Fri Apr 11 22:06:55 2025)\n",
      "checking tmux job status\n",
      "Active tmux sessions on 64.131.114.157:\n",
      "TimescaleDB: 2 windows (created Fri Apr 11 22:06:55 2025)\n",
      "checking tmux job status\n",
      "Active tmux sessions on 64.131.114.157:\n",
      "TimescaleDB: 2 windows (created Fri Apr 11 22:06:55 2025)\n",
      "checking tmux job status\n",
      "Active tmux sessions on 64.131.114.157:\n",
      "TimescaleDB: 2 windows (created Fri Apr 11 22:06:55 2025)\n",
      "checking tmux job status\n",
      "Active tmux sessions on 64.131.114.157:\n",
      "TimescaleDB: 2 windows (created Fri Apr 11 22:06:55 2025)\n",
      "checking tmux job status\n",
      "Active tmux sessions on 64.131.114.157:\n",
      "TimescaleDB: 2 windows (created Fri Apr 11 22:06:55 2025)\n",
      "checking tmux job status\n",
      "Active tmux sessions on 64.131.114.157:\n",
      "TimescaleDB: 2 windows (created Fri Apr 11 22:06:55 2025)\n",
      "checking tmux job status\n",
      "Active tmux sessions on 64.131.114.157:\n",
      "TimescaleDB: 2 windows (created Fri Apr 11 22:06:55 2025)\n",
      "checking tmux job status\n",
      "Active tmux sessions on 64.131.114.157:\n",
      "TimescaleDB: 2 windows (created Fri Apr 11 22:06:55 2025)\n",
      "checking tmux job status\n",
      "Active tmux sessions on 64.131.114.157:\n",
      "TimescaleDB: 2 windows (created Fri Apr 11 22:06:55 2025)\n",
      "checking tmux job status\n",
      "Active tmux sessions on 64.131.114.157:\n",
      "TimescaleDB: 2 windows (created Fri Apr 11 22:06:55 2025)\n",
      "checking tmux job status\n",
      "Active tmux sessions on 64.131.114.157:\n",
      "TimescaleDB: 2 windows (created Fri Apr 11 22:06:55 2025)\n",
      "checking tmux job status\n",
      "Active tmux sessions on 64.131.114.157:\n",
      "TimescaleDB: 2 windows (created Fri Apr 11 22:06:55 2025)\n",
      "checking tmux job status\n",
      "Active tmux sessions on 64.131.114.157:\n",
      "TimescaleDB: 2 windows (created Fri Apr 11 22:06:55 2025)\n",
      "checking tmux job status\n",
      "Active tmux sessions on 64.131.114.157:\n",
      "TimescaleDB: 2 windows (created Fri Apr 11 22:06:55 2025)\n",
      "checking tmux job status\n",
      "Active tmux sessions on 64.131.114.157:\n",
      "TimescaleDB: 2 windows (created Fri Apr 11 22:06:55 2025)\n",
      "checking tmux job status\n",
      "Active tmux sessions on 64.131.114.157:\n",
      "TimescaleDB: 2 windows (created Fri Apr 11 22:06:55 2025)\n",
      "checking tmux job status\n",
      "Active tmux sessions on 64.131.114.157:\n",
      "TimescaleDB: 2 windows (created Fri Apr 11 22:06:55 2025)\n",
      "checking tmux job status\n",
      "Active tmux sessions on 64.131.114.157:\n",
      "TimescaleDB: 2 windows (created Fri Apr 11 22:06:55 2025)\n",
      "checking tmux job status\n",
      "Active tmux sessions on 64.131.114.157:\n",
      "TimescaleDB: 2 windows (created Fri Apr 11 22:06:55 2025)\n",
      "checking tmux job status\n",
      "Active tmux sessions on 64.131.114.157:\n",
      "TimescaleDB: 2 windows (created Fri Apr 11 22:06:55 2025)\n",
      "checking tmux job status\n",
      "Active tmux sessions on 64.131.114.157:\n",
      "TimescaleDB: 2 windows (created Fri Apr 11 22:06:55 2025)\n",
      "checking tmux job status\n",
      "Active tmux sessions on 64.131.114.157:\n",
      "TimescaleDB: 2 windows (created Fri Apr 11 22:06:55 2025)\n",
      "checking tmux job status\n",
      "Active tmux sessions on 64.131.114.157:\n",
      "TimescaleDB: 2 windows (created Fri Apr 11 22:06:55 2025)\n",
      "checking tmux job status\n",
      "Active tmux sessions on 64.131.114.157:\n",
      "TimescaleDB: 2 windows (created Fri Apr 11 22:06:55 2025)\n",
      "checking tmux job status\n",
      "Active tmux sessions on 64.131.114.157:\n",
      "TimescaleDB: 2 windows (created Fri Apr 11 22:06:55 2025)\n",
      "checking tmux job status\n",
      "Active tmux sessions on 64.131.114.157:\n",
      "TimescaleDB: 2 windows (created Fri Apr 11 22:06:55 2025)\n",
      "checking tmux job status\n",
      "Active tmux sessions on 64.131.114.157:\n",
      "TimescaleDB: 2 windows (created Fri Apr 11 22:06:55 2025)\n",
      "checking tmux job status\n",
      "Warning: Job check timed out after 300 seconds\n",
      "Warning: Job may not have completed successfully\n",
      "INSERT-UNARY_SEQ_Client-0.csv\n",
      "[Benchmark: 1] [Client: 64.131.114.158] - Downloaded 1 result files\n",
      "cpu.txt\n",
      "io.txt\n",
      "mem.txt\n",
      "[Benchmark: 1] [Server] - Downloaded system stats files\n",
      "Purging existing dataStore & Starting TimescaleDB server...\n",
      "DROP DATABASE\n",
      "CREATE DATABASE\n",
      "CREATE EXTENSION\n",
      "TimescaleDB server is ready.\n",
      "[Benchmark: 2] - Schedule workload on 1744409771\n",
      "[Benchmark: 2] [Client: 64.131.114.158] - Time now: 1744409717 | Delta: 54\n",
      "checking tmux job status\n",
      "Active tmux sessions on 64.131.114.157:\n",
      "TimescaleDB: 2 windows (created Fri Apr 11 22:14:53 2025)\n",
      "checking tmux job status\n",
      "Active tmux sessions on 64.131.114.157:\n",
      "TimescaleDB: 2 windows (created Fri Apr 11 22:14:53 2025)\n",
      "checking tmux job status\n",
      "Active tmux sessions on 64.131.114.157:\n",
      "TimescaleDB: 2 windows (created Fri Apr 11 22:14:53 2025)\n",
      "checking tmux job status\n",
      "Active tmux sessions on 64.131.114.157:\n",
      "TimescaleDB: 2 windows (created Fri Apr 11 22:14:53 2025)\n",
      "checking tmux job status\n",
      "Active tmux sessions on 64.131.114.157:\n",
      "TimescaleDB: 2 windows (created Fri Apr 11 22:14:53 2025)\n",
      "checking tmux job status\n",
      "Active tmux sessions on 64.131.114.157:\n",
      "TimescaleDB: 2 windows (created Fri Apr 11 22:14:53 2025)\n",
      "checking tmux job status\n",
      "Active tmux sessions on 64.131.114.157:\n",
      "TimescaleDB: 2 windows (created Fri Apr 11 22:14:53 2025)\n",
      "checking tmux job status\n",
      "Active tmux sessions on 64.131.114.157:\n",
      "TimescaleDB: 2 windows (created Fri Apr 11 22:14:53 2025)\n",
      "checking tmux job status\n",
      "Active tmux sessions on 64.131.114.157:\n",
      "TimescaleDB: 2 windows (created Fri Apr 11 22:14:53 2025)\n",
      "checking tmux job status\n",
      "Active tmux sessions on 64.131.114.157:\n",
      "TimescaleDB: 2 windows (created Fri Apr 11 22:14:53 2025)\n",
      "checking tmux job status\n",
      "Active tmux sessions on 64.131.114.157:\n",
      "TimescaleDB: 2 windows (created Fri Apr 11 22:14:53 2025)\n",
      "checking tmux job status\n",
      "Active tmux sessions on 64.131.114.157:\n",
      "TimescaleDB: 2 windows (created Fri Apr 11 22:14:53 2025)\n",
      "checking tmux job status\n",
      "Active tmux sessions on 64.131.114.157:\n",
      "TimescaleDB: 2 windows (created Fri Apr 11 22:14:53 2025)\n",
      "checking tmux job status\n",
      "Active tmux sessions on 64.131.114.157:\n",
      "TimescaleDB: 2 windows (created Fri Apr 11 22:14:53 2025)\n",
      "checking tmux job status\n",
      "Active tmux sessions on 64.131.114.157:\n",
      "TimescaleDB: 2 windows (created Fri Apr 11 22:14:53 2025)\n",
      "checking tmux job status\n",
      "Active tmux sessions on 64.131.114.157:\n",
      "TimescaleDB: 2 windows (created Fri Apr 11 22:14:53 2025) (attached)\n",
      "checking tmux job status\n",
      "Active tmux sessions on 64.131.114.157:\n",
      "TimescaleDB: 1 windows (created Fri Apr 11 22:14:53 2025) (attached)\n",
      "checking tmux job status\n",
      "Active tmux sessions on 64.131.114.157:\n",
      "TimescaleDB: 1 windows (created Fri Apr 11 22:14:53 2025) (attached)\n",
      "checking tmux job status\n",
      "Active tmux sessions on 64.131.114.157:\n",
      "TimescaleDB: 1 windows (created Fri Apr 11 22:14:53 2025)\n",
      "checking tmux job status\n",
      "Active tmux sessions on 64.131.114.157:\n",
      "TimescaleDB: 1 windows (created Fri Apr 11 22:14:53 2025)\n",
      "checking tmux job status\n",
      "Active tmux sessions on 64.131.114.157:\n",
      "TimescaleDB: 1 windows (created Fri Apr 11 22:14:53 2025)\n",
      "checking tmux job status\n",
      "Active tmux sessions on 64.131.114.157:\n",
      "TimescaleDB: 1 windows (created Fri Apr 11 22:14:53 2025)\n",
      "checking tmux job status\n",
      "Active tmux sessions on 64.131.114.157:\n",
      "TimescaleDB: 1 windows (created Fri Apr 11 22:14:53 2025)\n",
      "checking tmux job status\n",
      "Active tmux sessions on 64.131.114.157:\n",
      "TimescaleDB: 1 windows (created Fri Apr 11 22:14:53 2025)\n",
      "checking tmux job status\n",
      "Active tmux sessions on 64.131.114.157:\n",
      "TimescaleDB: 1 windows (created Fri Apr 11 22:14:53 2025)\n",
      "checking tmux job status\n",
      "Active tmux sessions on 64.131.114.157:\n",
      "TimescaleDB: 1 windows (created Fri Apr 11 22:14:53 2025)\n",
      "checking tmux job status\n",
      "Active tmux sessions on 64.131.114.157:\n",
      "TimescaleDB: 1 windows (created Fri Apr 11 22:14:53 2025)\n",
      "checking tmux job status\n",
      "Active tmux sessions on 64.131.114.157:\n",
      "TimescaleDB: 1 windows (created Fri Apr 11 22:14:53 2025)\n",
      "checking tmux job status\n",
      "Active tmux sessions on 64.131.114.157:\n",
      "TimescaleDB: 1 windows (created Fri Apr 11 22:14:53 2025)\n",
      "checking tmux job status\n",
      "Active tmux sessions on 64.131.114.157:\n",
      "TimescaleDB: 1 windows (created Fri Apr 11 22:14:53 2025)\n",
      "checking tmux job status\n",
      "Warning: Job check timed out after 300 seconds\n",
      "Warning: Job may not have completed successfully\n",
      "INSERT-UNARY_SEQ_Client-0.csv\n",
      "INSERT-UNARY_SEQ_Client-1.csv\n",
      "[Benchmark: 2] [Client: 64.131.114.158] - Downloaded 2 result files\n",
      "cpu.txt\n",
      "io.txt\n",
      "mem.txt\n",
      "[Benchmark: 2] [Server] - Downloaded system stats files\n",
      "Purging existing dataStore & Starting TimescaleDB server...\n",
      "DROP DATABASE\n",
      "CREATE DATABASE\n",
      "CREATE EXTENSION\n",
      "TimescaleDB server is ready.\n",
      "[Benchmark: 4] - Schedule workload on 1744410256\n",
      "[Benchmark: 4] [Client: 64.131.114.158] - Time now: 1744410203 | Delta: 53\n",
      "checking tmux job status\n",
      "Active tmux sessions on 64.131.114.157:\n",
      "TimescaleDB: 2 windows (created Fri Apr 11 22:22:58 2025)\n",
      "checking tmux job status\n",
      "Active tmux sessions on 64.131.114.157:\n",
      "TimescaleDB: 2 windows (created Fri Apr 11 22:22:58 2025)\n",
      "checking tmux job status\n",
      "Active tmux sessions on 64.131.114.157:\n",
      "TimescaleDB: 2 windows (created Fri Apr 11 22:22:58 2025)\n",
      "checking tmux job status\n",
      "Active tmux sessions on 64.131.114.157:\n",
      "TimescaleDB: 2 windows (created Fri Apr 11 22:22:58 2025)\n",
      "checking tmux job status\n",
      "Active tmux sessions on 64.131.114.157:\n",
      "TimescaleDB: 2 windows (created Fri Apr 11 22:22:58 2025)\n",
      "checking tmux job status\n",
      "Active tmux sessions on 64.131.114.157:\n",
      "TimescaleDB: 2 windows (created Fri Apr 11 22:22:58 2025)\n",
      "checking tmux job status\n",
      "Active tmux sessions on 64.131.114.157:\n",
      "TimescaleDB: 2 windows (created Fri Apr 11 22:22:58 2025)\n",
      "checking tmux job status\n",
      "Active tmux sessions on 64.131.114.157:\n",
      "TimescaleDB: 2 windows (created Fri Apr 11 22:22:58 2025)\n",
      "checking tmux job status\n",
      "Active tmux sessions on 64.131.114.157:\n",
      "TimescaleDB: 2 windows (created Fri Apr 11 22:22:58 2025)\n",
      "checking tmux job status\n",
      "Active tmux sessions on 64.131.114.157:\n",
      "TimescaleDB: 2 windows (created Fri Apr 11 22:22:58 2025)\n",
      "checking tmux job status\n",
      "Active tmux sessions on 64.131.114.157:\n",
      "TimescaleDB: 2 windows (created Fri Apr 11 22:22:58 2025)\n",
      "checking tmux job status\n",
      "Active tmux sessions on 64.131.114.157:\n",
      "TimescaleDB: 2 windows (created Fri Apr 11 22:22:58 2025)\n",
      "checking tmux job status\n",
      "Active tmux sessions on 64.131.114.157:\n",
      "TimescaleDB: 2 windows (created Fri Apr 11 22:22:58 2025)\n",
      "checking tmux job status\n",
      "Active tmux sessions on 64.131.114.157:\n",
      "TimescaleDB: 2 windows (created Fri Apr 11 22:22:58 2025)\n",
      "checking tmux job status\n",
      "Active tmux sessions on 64.131.114.157:\n",
      "TimescaleDB: 2 windows (created Fri Apr 11 22:22:58 2025)\n",
      "checking tmux job status\n",
      "Active tmux sessions on 64.131.114.157:\n",
      "TimescaleDB: 2 windows (created Fri Apr 11 22:22:58 2025)\n",
      "checking tmux job status\n",
      "Active tmux sessions on 64.131.114.157:\n",
      "TimescaleDB: 2 windows (created Fri Apr 11 22:22:58 2025)\n",
      "checking tmux job status\n",
      "Active tmux sessions on 64.131.114.157:\n",
      "TimescaleDB: 2 windows (created Fri Apr 11 22:22:58 2025)\n",
      "checking tmux job status\n",
      "Active tmux sessions on 64.131.114.157:\n",
      "TimescaleDB: 2 windows (created Fri Apr 11 22:22:58 2025)\n",
      "checking tmux job status\n",
      "Active tmux sessions on 64.131.114.157:\n",
      "TimescaleDB: 2 windows (created Fri Apr 11 22:22:58 2025)\n",
      "checking tmux job status\n",
      "Active tmux sessions on 64.131.114.157:\n",
      "TimescaleDB: 2 windows (created Fri Apr 11 22:22:58 2025)\n",
      "checking tmux job status\n",
      "Active tmux sessions on 64.131.114.157:\n",
      "TimescaleDB: 2 windows (created Fri Apr 11 22:22:58 2025)\n",
      "checking tmux job status\n",
      "Active tmux sessions on 64.131.114.157:\n",
      "TimescaleDB: 2 windows (created Fri Apr 11 22:22:58 2025)\n",
      "checking tmux job status\n",
      "Active tmux sessions on 64.131.114.157:\n",
      "TimescaleDB: 2 windows (created Fri Apr 11 22:22:58 2025)\n",
      "checking tmux job status\n",
      "Active tmux sessions on 64.131.114.157:\n",
      "TimescaleDB: 2 windows (created Fri Apr 11 22:22:58 2025)\n",
      "checking tmux job status\n",
      "Active tmux sessions on 64.131.114.157:\n",
      "TimescaleDB: 2 windows (created Fri Apr 11 22:22:58 2025)\n",
      "checking tmux job status\n",
      "Active tmux sessions on 64.131.114.157:\n",
      "TimescaleDB: 2 windows (created Fri Apr 11 22:22:58 2025)\n",
      "checking tmux job status\n",
      "Active tmux sessions on 64.131.114.157:\n",
      "TimescaleDB: 2 windows (created Fri Apr 11 22:22:58 2025)\n",
      "checking tmux job status\n",
      "Active tmux sessions on 64.131.114.157:\n",
      "TimescaleDB: 2 windows (created Fri Apr 11 22:22:58 2025)\n",
      "checking tmux job status\n",
      "Active tmux sessions on 64.131.114.157:\n",
      "TimescaleDB: 2 windows (created Fri Apr 11 22:22:58 2025)\n",
      "checking tmux job status\n",
      "Warning: Job check timed out after 300 seconds\n",
      "Warning: Job may not have completed successfully\n",
      "INSERT-UNARY_SEQ_Client-0.csv\n",
      "INSERT-UNARY_SEQ_Client-1.csv\n",
      "INSERT-UNARY_SEQ_Client-2.csv\n",
      "INSERT-UNARY_SEQ_Client-3.csv\n",
      "[Benchmark: 4] [Client: 64.131.114.158] - Downloaded 4 result files\n",
      "cpu.txt\n",
      "io.txt\n",
      "mem.txt\n",
      "[Benchmark: 4] [Server] - Downloaded system stats files\n"
     ]
    }
   ],
   "source": [
    "runWorkload(\n",
    "    \"INSERT_UNARY_SEQ\",\n",
    "    targetThreads,\n",
    "    server_local_ips[server_ips[0]],\n",
    "    9493,\n",
    "    \"TimescaleDB\",\n",
    "    client_ips,\n",
    "    1000,\n",
    "    0,\n",
    "    serverGroup,\n",
    "    SERVER_WORKING_DIR,\n",
    "    \"ubuntu\",\n",
    ")\n"
   ]
  },
  {
   "cell_type": "markdown",
   "metadata": {},
   "source": [
    "> Visualization"
   ]
  },
  {
   "cell_type": "code",
   "execution_count": null,
   "metadata": {},
   "outputs": [],
   "source": [
    "unaryPlots(\"INSERT_UNARY_SEQ\", \"TimescaleDB\", targetThreads, client_ips, logScale=True)\n"
   ]
  },
  {
   "cell_type": "markdown",
   "metadata": {},
   "source": [
    "## Experiment – UNARY INSERT (RND)\n",
    "> Perform experiments\n"
   ]
  },
  {
   "cell_type": "code",
   "execution_count": null,
   "metadata": {},
   "outputs": [
    {
     "name": "stdout",
     "output_type": "stream",
     "text": [
      "Purging existing dataStore & Starting TimescaleDB server...\n",
      "DROP DATABASE\n",
      "CREATE DATABASE\n",
      "CREATE EXTENSION\n",
      "[Benchmark: 1] - Schedule workload on 1744422217\n",
      "[Benchmark: 1] [Client: 64.131.114.158] - Time now: 1744422164 | Delta: 53\n"
     ]
    }
   ],
   "source": [
    "runWorkload(\n",
    "    \"INSERT_UNARY_RAND\",\n",
    "    targetThreads,\n",
    "    server_local_ips[server_ips[0]],\n",
    "    9493,\n",
    "    \"TimescaleDB\",\n",
    "    client_ips,\n",
    "    10,\n",
    "    0,\n",
    "    serverGroup,\n",
    "    SERVER_WORKING_DIR,\n",
    "    \"ubuntu\",\n",
    ")\n"
   ]
  },
  {
   "cell_type": "markdown",
   "metadata": {},
   "source": [
    "> Visualization"
   ]
  },
  {
   "cell_type": "code",
   "execution_count": null,
   "metadata": {},
   "outputs": [],
   "source": [
    "unaryPlots(\"INSERT_UNARY_RAND\", \"TimescaleDB\", targetThreads, client_ips, logScale=True)\n"
   ]
  },
  {
   "cell_type": "markdown",
   "metadata": {},
   "source": [
    "## Experiment – BATCH INSERT (SEQ)\n",
    "> Perform experiments\n"
   ]
  },
  {
   "cell_type": "code",
   "execution_count": null,
   "metadata": {},
   "outputs": [],
   "source": [
    "runWorkload(\n",
    "    \"INSERT_BATCH_SEQ\",\n",
    "    targetThreads,\n",
    "    server_local_ips[server_ips[0]],\n",
    "    9493,\n",
    "    \"TimescaleDB\",\n",
    "    client_ips,\n",
    "    1000,\n",
    "    10,\n",
    "    serverGroup,\n",
    "    SERVER_WORKING_DIR,\n",
    "    \"ubuntu\",\n",
    ")\n"
   ]
  },
  {
   "cell_type": "markdown",
   "metadata": {},
   "source": [
    "> Visualization"
   ]
  },
  {
   "cell_type": "code",
   "execution_count": null,
   "metadata": {},
   "outputs": [],
   "source": [
    "batchPlots(\"INSERT_BATCH_SEQ\", \"TimescaleDB\", targetThreads, client_ips)\n"
   ]
  },
  {
   "cell_type": "markdown",
   "metadata": {},
   "source": [
    "## Experiment – BATCH INSERT (RND)\n",
    "> Perform experiments\n"
   ]
  },
  {
   "cell_type": "code",
   "execution_count": null,
   "metadata": {},
   "outputs": [],
   "source": [
    "runWorkload(\n",
    "    \"INSERT_BATCH_RAND\",\n",
    "    targetThreads,\n",
    "    server_local_ips[server_ips[0]],\n",
    "    9493,\n",
    "    \"TimescaleDB\",\n",
    "    client_ips,\n",
    "    1000,\n",
    "    10,\n",
    "    serverGroup,\n",
    "    SERVER_WORKING_DIR,\n",
    "    \"ubuntu\",\n",
    ")\n"
   ]
  },
  {
   "cell_type": "markdown",
   "metadata": {},
   "source": [
    "> Visualization"
   ]
  },
  {
   "cell_type": "code",
   "execution_count": null,
   "metadata": {},
   "outputs": [],
   "source": [
    "batchPlots(\"INSERT_BATCH_RAND\", \"TimescaleDB\", targetThreads, client_ips)\n"
   ]
  },
  {
   "cell_type": "markdown",
   "metadata": {},
   "source": [
    "## Bootstrap Database\n",
    "\n",
    "> Reboot server to a fresh state to avoid becoming non-accessible from public network"
   ]
  },
  {
   "cell_type": "code",
   "execution_count": null,
   "metadata": {},
   "outputs": [],
   "source": [
    "allGroup.run(f\"sudo shutdown -r +1\", hide=True)\n",
    "allGroup.close()\n",
    "\n",
    "# Buffer of reboot\n",
    "time.sleep(70)\n",
    "\n",
    "for ip in server_ips + client_ips:\n",
    "    server.wait_for_tcp(ip, 22, timeout=1200)\n"
   ]
  },
  {
   "cell_type": "markdown",
   "metadata": {},
   "source": [
    "<div class=\"alert alert-block alert-info\">Note: This is required so that there's actual data for clients to query from</div>"
   ]
  },
  {
   "cell_type": "code",
   "execution_count": null,
   "metadata": {},
   "outputs": [],
   "source": [
    "serverGroup.put(\"../scripts/restoreDB.sh\")\n",
    "serverGroup.close()\n",
    "\n",
    "# Restore DB\n",
    "serverGroup.run(f\"bash restoreDB.sh CHI@UC TimescaleDB {SERVER_WORKING_DIR}\", hide=True)\n",
    "serverGroup.close()\n",
    "\n",
    "# Keep checking if job is done running in tmux window\n",
    "checkTmuxJobIsDone(serverGroup)\n"
   ]
  },
  {
   "cell_type": "markdown",
   "metadata": {},
   "source": [
    "## Experiment – UNARY QUERY (SEQ)\n",
    "> Perform experiments\n"
   ]
  },
  {
   "cell_type": "code",
   "execution_count": null,
   "metadata": {},
   "outputs": [],
   "source": [
    "runWorkload(\n",
    "    \"QUERY_UNARY_SEQ\",\n",
    "    targetThreads,\n",
    "    server_local_ips[server_ips[0]],\n",
    "    9493,\n",
    "    \"TimescaleDB\",\n",
    "    client_ips,\n",
    "    1000,\n",
    "    0,\n",
    "    serverGroup,\n",
    "    SERVER_WORKING_DIR,\n",
    "    \"ubuntu\",\n",
    ")\n"
   ]
  },
  {
   "cell_type": "markdown",
   "metadata": {},
   "source": [
    "> Visualization"
   ]
  },
  {
   "cell_type": "code",
   "execution_count": null,
   "metadata": {},
   "outputs": [],
   "source": [
    "unaryPlots(\"QUERY_UNARY_SEQ\", \"TimescaleDB\", targetThreads, client_ips, logScale=True)\n"
   ]
  },
  {
   "cell_type": "markdown",
   "metadata": {},
   "source": [
    "## Experiment – UNARY QUERY (RND)\n",
    "> Perform experiments"
   ]
  },
  {
   "cell_type": "code",
   "execution_count": null,
   "metadata": {},
   "outputs": [],
   "source": [
    "runWorkload(\n",
    "    \"QUERY_UNARY_RAND\",\n",
    "    targetThreads,\n",
    "    server_local_ips[server_ips[0]],\n",
    "    9493,\n",
    "    \"TimescaleDB\",\n",
    "    client_ips,\n",
    "    1000,\n",
    "    0,\n",
    "    serverGroup,\n",
    "    SERVER_WORKING_DIR,\n",
    "    \"ubuntu\",\n",
    ")\n"
   ]
  },
  {
   "cell_type": "markdown",
   "metadata": {},
   "source": [
    "> Visualization"
   ]
  },
  {
   "cell_type": "code",
   "execution_count": null,
   "metadata": {},
   "outputs": [],
   "source": [
    "unaryPlots(\"QUERY_UNARY_RAND\", \"TimescaleDB\", targetThreads, client_ips)\n"
   ]
  },
  {
   "cell_type": "markdown",
   "metadata": {},
   "source": [
    "## Experiment – BATCH QUERY (SEQ)\n",
    "> Perform experiments\n"
   ]
  },
  {
   "cell_type": "code",
   "execution_count": null,
   "metadata": {},
   "outputs": [],
   "source": [
    "runWorkload(\n",
    "    \"QUERY_BATCH_SEQ\",\n",
    "    targetThreads,\n",
    "    server_local_ips[server_ips[0]],\n",
    "    9493,\n",
    "    \"TimescaleDB\",\n",
    "    client_ips,\n",
    "    100,\n",
    "    1000,\n",
    "    serverGroup,\n",
    "    SERVER_WORKING_DIR,\n",
    "    \"ubuntu\",\n",
    ")\n"
   ]
  },
  {
   "cell_type": "markdown",
   "metadata": {},
   "source": [
    "> Visualization"
   ]
  },
  {
   "cell_type": "code",
   "execution_count": null,
   "metadata": {},
   "outputs": [],
   "source": [
    "batchPlots(\"QUERY_BATCH_SEQ\", \"TimescaleDB\", targetThreads, client_ips, 100)\n"
   ]
  },
  {
   "cell_type": "markdown",
   "metadata": {},
   "source": [
    "## Experiment – BATCH QUERY (RND)\n",
    "> Perform experiments\n"
   ]
  },
  {
   "cell_type": "code",
   "execution_count": null,
   "metadata": {},
   "outputs": [],
   "source": [
    "runWorkload(\n",
    "    \"QUERY_BATCH_RAND\",\n",
    "    targetThreads,\n",
    "    server_local_ips[server_ips[0]],\n",
    "    9493,\n",
    "    \"TimescaleDB\",\n",
    "    client_ips,\n",
    "    1000,\n",
    "    10,\n",
    "    serverGroup,\n",
    "    SERVER_WORKING_DIR,\n",
    "    \"ubuntu\",\n",
    ")\n"
   ]
  },
  {
   "cell_type": "markdown",
   "metadata": {},
   "source": [
    "> Visualization"
   ]
  },
  {
   "cell_type": "code",
   "execution_count": null,
   "metadata": {},
   "outputs": [],
   "source": [
    "batchPlots(\"QUERY_BATCH_RAND\", \"TimescaleDB\", targetThreads, client_ips)\n"
   ]
  }
 ],
 "metadata": {
  "kernelspec": {
   "display_name": "base",
   "language": "python",
   "name": "python3"
  },
  "language_info": {
   "codemirror_mode": {
    "name": "ipython",
    "version": 3
   },
   "file_extension": ".py",
   "mimetype": "text/x-python",
   "name": "python",
   "nbconvert_exporter": "python",
   "pygments_lexer": "ipython3",
   "version": "3.11.4"
  }
 },
 "nbformat": 4,
 "nbformat_minor": 2
}
