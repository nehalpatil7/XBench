{
 "cells": [
  {
   "cell_type": "markdown",
   "metadata": {},
   "source": [
    "# TimescaleDB Benchmarks – Big Experiments\n",
    "\n",
    "## Packages"
   ]
  },
  {
   "cell_type": "code",
   "execution_count": 1,
   "metadata": {},
   "outputs": [],
   "source": [
    "from fabric import ThreadingGroup, Connection\n",
    "from chi import server, ssh\n",
    "import os\n",
    "import warnings\n",
    "import time\n",
    "import sys\n",
    "\n",
    "sys.path.append(\"../../scripts\")\n",
    "from utilities import *\n",
    "\n",
    "warnings.filterwarnings(\"ignore\")\n"
   ]
  },
  {
   "cell_type": "markdown",
   "metadata": {},
   "source": [
    "## Configurations"
   ]
  },
  {
   "cell_type": "code",
   "execution_count": 2,
   "metadata": {},
   "outputs": [],
   "source": [
    "sshUser = \"ubuntu\"\n",
    "server_ips = [\"64.131.114.157\"]\n",
    "server_local_ips = {}\n",
    "client_ips = [\"64.131.114.158\"]\n",
    "\n",
    "storageType = {\"HDD\": \"/HDD\", \"NVME\": \"/NVME_RAID-0\"}\n",
    "SERVER_WORKING_DIR = storageType[\"NVME\"]\n"
   ]
  },
  {
   "cell_type": "markdown",
   "metadata": {},
   "source": [
    "## Initialize ENV"
   ]
  },
  {
   "cell_type": "code",
   "execution_count": 3,
   "metadata": {},
   "outputs": [],
   "source": [
    "# These groups are for processing in parallel\n",
    "serverConnections = [Connection(i, user=sshUser) for i in server_ips]\n",
    "clientConnections = [Connection(i, user=sshUser) for i in client_ips]\n",
    "allConnections = serverConnections + clientConnections\n",
    "serverGroup = ThreadingGroup.from_connections(serverConnections)\n",
    "clientGroup = ThreadingGroup.from_connections(clientConnections)\n",
    "allGroup = ThreadingGroup.from_connections(allConnections)\n",
    "\n",
    "# Get local IP for server\n",
    "local_ips = serverGroup.run(\"hostname -I | cut -d ' ' -f 1\", hide=True)\n",
    "for i in local_ips:\n",
    "    server_local_ips[i.host] = local_ips[i].stdout.strip()\n"
   ]
  },
  {
   "cell_type": "code",
   "execution_count": 4,
   "metadata": {},
   "outputs": [],
   "source": [
    "# Update & Upgrade latest packages\n",
    "allGroup.run(f\"sudo apt update; sudo apt upgrade -y; sudo shutdown -r +1\", hide=True)\n",
    "allGroup.close()\n"
   ]
  },
  {
   "cell_type": "markdown",
   "metadata": {},
   "source": [
    "> Wait for all servers to come online after reboot"
   ]
  },
  {
   "cell_type": "code",
   "execution_count": 5,
   "metadata": {},
   "outputs": [],
   "source": [
    "# Buffer of reboot\n",
    "time.sleep(70)\n",
    "\n",
    "for ip in server_ips + client_ips:\n",
    "    server.wait_for_tcp(ip, 22, timeout=1200)\n"
   ]
  },
  {
   "cell_type": "markdown",
   "metadata": {},
   "source": [
    "## Dataset\n",
    "> Prepare on client nodes"
   ]
  },
  {
   "cell_type": "code",
   "execution_count": 6,
   "metadata": {},
   "outputs": [],
   "source": [
    "clientGroup.put(\"../../scripts/initData.sh\")\n",
    "clientGroup.run(\"bash initData.sh\", hide=True)\n",
    "clientGroup.close()\n"
   ]
  },
  {
   "cell_type": "markdown",
   "metadata": {},
   "source": [
    "## Benchmark server (TimescaleDB)\n",
    "> Prepare benchmark server"
   ]
  },
  {
   "cell_type": "code",
   "execution_count": 7,
   "metadata": {},
   "outputs": [],
   "source": [
    "serverGroup.put(\"../../scripts/TimescaleDB/initTimescaleDBServer.sh\")\n",
    "serverGroup.run(\n",
    "    f\"sudo chmod -R 777 {SERVER_WORKING_DIR}; bash initTimescaleDBServer.sh {SERVER_WORKING_DIR} true\",\n",
    "    hide=True,\n",
    ")\n",
    "serverGroup.close()\n"
   ]
  },
  {
   "cell_type": "markdown",
   "metadata": {},
   "source": [
    "## Benchmark client (XBench)\n",
    "> Prepare benchmark client"
   ]
  },
  {
   "cell_type": "code",
   "execution_count": 8,
   "metadata": {},
   "outputs": [
    {
     "ename": "GroupException",
     "evalue": "{<Connection host=64.131.114.158 user=ubuntu>: <UnexpectedExit: cmd='bash initXBenchClient.sh' exited=2>}",
     "output_type": "error",
     "traceback": [
      "\u001b[0;31m---------------------------------------------------------------------------\u001b[0m",
      "\u001b[0;31mGroupException\u001b[0m                            Traceback (most recent call last)",
      "Cell \u001b[0;32mIn[8], line 2\u001b[0m\n\u001b[1;32m      1\u001b[0m clientGroup\u001b[38;5;241m.\u001b[39mput(\u001b[38;5;124m\"\u001b[39m\u001b[38;5;124m../../scripts/initXBenchClient.sh\u001b[39m\u001b[38;5;124m\"\u001b[39m)\n\u001b[0;32m----> 2\u001b[0m clientGroup\u001b[38;5;241m.\u001b[39mrun(\u001b[38;5;124m\"\u001b[39m\u001b[38;5;124mbash initXBenchClient.sh\u001b[39m\u001b[38;5;124m\"\u001b[39m, hide\u001b[38;5;241m=\u001b[39m\u001b[38;5;28;01mTrue\u001b[39;00m)\n\u001b[1;32m      3\u001b[0m clientGroup\u001b[38;5;241m.\u001b[39mclose()\n",
      "File \u001b[0;32m/opt/homebrew/anaconda3/lib/python3.11/site-packages/fabric/group.py:116\u001b[0m, in \u001b[0;36mGroup.run\u001b[0;34m(self, *args, **kwargs)\u001b[0m\n\u001b[1;32m    105\u001b[0m \u001b[38;5;250m\u001b[39m\u001b[38;5;124;03m\"\"\"\u001b[39;00m\n\u001b[1;32m    106\u001b[0m \u001b[38;5;124;03mExecutes `.Connection.run` on all member `Connections <.Connection>`.\u001b[39;00m\n\u001b[1;32m    107\u001b[0m \n\u001b[0;32m   (...)\u001b[0m\n\u001b[1;32m    110\u001b[0m \u001b[38;5;124;03m.. versionadded:: 2.0\u001b[39;00m\n\u001b[1;32m    111\u001b[0m \u001b[38;5;124;03m\"\"\"\u001b[39;00m\n\u001b[1;32m    112\u001b[0m \u001b[38;5;66;03m# TODO: how to change method of execution across contents? subclass,\u001b[39;00m\n\u001b[1;32m    113\u001b[0m \u001b[38;5;66;03m# kwargs, additional methods, inject an executor? Doing subclass for\u001b[39;00m\n\u001b[1;32m    114\u001b[0m \u001b[38;5;66;03m# now, but not 100% sure it's the best route.\u001b[39;00m\n\u001b[1;32m    115\u001b[0m \u001b[38;5;66;03m# TODO: also need way to deal with duplicate connections (see THOUGHTS)\u001b[39;00m\n\u001b[0;32m--> 116\u001b[0m \u001b[38;5;28;01mreturn\u001b[39;00m \u001b[38;5;28mself\u001b[39m\u001b[38;5;241m.\u001b[39m_do(\u001b[38;5;124m\"\u001b[39m\u001b[38;5;124mrun\u001b[39m\u001b[38;5;124m\"\u001b[39m, \u001b[38;5;241m*\u001b[39margs, \u001b[38;5;241m*\u001b[39m\u001b[38;5;241m*\u001b[39mkwargs)\n",
      "File \u001b[0;32m/opt/homebrew/anaconda3/lib/python3.11/site-packages/fabric/group.py:282\u001b[0m, in \u001b[0;36mThreadingGroup._do\u001b[0;34m(self, method, *args, **kwargs)\u001b[0m\n\u001b[1;32m    280\u001b[0m         excepted \u001b[38;5;241m=\u001b[39m \u001b[38;5;28;01mTrue\u001b[39;00m\n\u001b[1;32m    281\u001b[0m \u001b[38;5;28;01mif\u001b[39;00m excepted:\n\u001b[0;32m--> 282\u001b[0m     \u001b[38;5;28;01mraise\u001b[39;00m GroupException(results)\n\u001b[1;32m    283\u001b[0m \u001b[38;5;28;01mreturn\u001b[39;00m results\n",
      "\u001b[0;31mGroupException\u001b[0m: {<Connection host=64.131.114.158 user=ubuntu>: <UnexpectedExit: cmd='bash initXBenchClient.sh' exited=2>}"
     ]
    }
   ],
   "source": [
    "clientGroup.put(\"../../scripts/initXBenchClient.sh\")\n",
    "clientGroup.run(\"bash initXBenchClient.sh\", hide=True)\n",
    "clientGroup.close()\n"
   ]
  },
  {
   "cell_type": "markdown",
   "metadata": {},
   "source": [
    "## Experiment - Settings"
   ]
  },
  {
   "cell_type": "code",
   "execution_count": 21,
   "metadata": {},
   "outputs": [],
   "source": [
    "targetThreads = [1, 2, 4, 8]\n",
    "numClients = [i * len(client_ips) for i in targetThreads]\n"
   ]
  },
  {
   "cell_type": "markdown",
   "metadata": {},
   "source": [
    "## Experiment – UNARY INSERT (SEQ)\n",
    "> Perform experiments\n"
   ]
  },
  {
   "cell_type": "code",
   "execution_count": null,
   "metadata": {},
   "outputs": [],
   "source": [
    "# runWorkload(\n",
    "#     \"INSERT_UNARY_SEQ\",\n",
    "#     targetThreads,\n",
    "#     server_local_ips[server_ips[0]],\n",
    "#     9493,\n",
    "#     \"TimescaleDB\",\n",
    "#     client_ips,\n",
    "#     1000,\n",
    "#     0,\n",
    "#     serverGroup,\n",
    "#     SERVER_WORKING_DIR,\n",
    "#     \"ubuntu\",\n",
    "# )\n"
   ]
  },
  {
   "cell_type": "code",
   "execution_count": null,
   "metadata": {},
   "outputs": [],
   "source": [
    "runWorkload(\n",
    "    \"INSERT_UNARY_SEQ\",\n",
    "    targetThreads,\n",
    "    server_local_ips[server_ips[0]],\n",
    "    9493,\n",
    "    \"TimescaleDB\",\n",
    "    client_ips,\n",
    "    1,\n",
    "    0,\n",
    "    serverGroup,\n",
    "    SERVER_WORKING_DIR,\n",
    "    \"ubuntu\",\n",
    ")\n"
   ]
  },
  {
   "cell_type": "markdown",
   "metadata": {},
   "source": [
    "> Visualization"
   ]
  },
  {
   "cell_type": "code",
   "execution_count": null,
   "metadata": {},
   "outputs": [],
   "source": [
    "unaryPlots(\"INSERT_UNARY_SEQ\", \"TimescaleDB\", targetThreads, client_ips, logScale=True)\n"
   ]
  },
  {
   "cell_type": "markdown",
   "metadata": {},
   "source": [
    "## Experiment – UNARY INSERT (RND)\n",
    "> Perform experiments\n"
   ]
  },
  {
   "cell_type": "code",
   "execution_count": null,
   "metadata": {},
   "outputs": [],
   "source": [
    "runWorkload(\n",
    "    \"INSERT_UNARY_RAND\",\n",
    "    targetThreads,\n",
    "    server_local_ips[server_ips[0]],\n",
    "    9491,\n",
    "    \"TimescaleDB\",\n",
    "    client_ips,\n",
    "    1000,\n",
    "    0,\n",
    "    serverGroup,\n",
    "    SERVER_WORKING_DIR,\n",
    "    \"ubuntu\",\n",
    ")\n"
   ]
  },
  {
   "cell_type": "markdown",
   "metadata": {},
   "source": [
    "> Visualization"
   ]
  },
  {
   "cell_type": "code",
   "execution_count": null,
   "metadata": {},
   "outputs": [],
   "source": [
    "unaryPlots(\"INSERT_UNARY_RAND\", \"TimescaleDB\", targetThreads, client_ips, logScale=True)\n"
   ]
  },
  {
   "cell_type": "markdown",
   "metadata": {},
   "source": [
    "## Experiment – BATCH INSERT (SEQ)\n",
    "> Perform experiments\n"
   ]
  },
  {
   "cell_type": "code",
   "execution_count": null,
   "metadata": {},
   "outputs": [],
   "source": [
    "runWorkload(\n",
    "    \"INSERT_BATCH_SEQ\",\n",
    "    targetThreads,\n",
    "    server_local_ips[server_ips[0]],\n",
    "    9491,\n",
    "    \"TimescaleDB\",\n",
    "    client_ips,\n",
    "    1000,\n",
    "    10,\n",
    "    serverGroup,\n",
    "    SERVER_WORKING_DIR,\n",
    "    \"ubuntu\",\n",
    ")\n"
   ]
  },
  {
   "cell_type": "markdown",
   "metadata": {},
   "source": [
    "> Visualization"
   ]
  },
  {
   "cell_type": "code",
   "execution_count": null,
   "metadata": {},
   "outputs": [],
   "source": [
    "batchPlots(\"INSERT_BATCH_SEQ\", \"TimescaleDB\", targetThreads, client_ips)\n"
   ]
  },
  {
   "cell_type": "markdown",
   "metadata": {},
   "source": [
    "## Experiment – BATCH INSERT (RND)\n",
    "> Perform experiments\n"
   ]
  },
  {
   "cell_type": "code",
   "execution_count": null,
   "metadata": {},
   "outputs": [],
   "source": [
    "runWorkload(\n",
    "    \"INSERT_BATCH_RAND\",\n",
    "    targetThreads,\n",
    "    server_local_ips[server_ips[0]],\n",
    "    9491,\n",
    "    \"TimescaleDB\",\n",
    "    client_ips,\n",
    "    1000,\n",
    "    10,\n",
    "    serverGroup,\n",
    "    SERVER_WORKING_DIR,\n",
    "    \"ubuntu\",\n",
    ")\n"
   ]
  },
  {
   "cell_type": "markdown",
   "metadata": {},
   "source": [
    "> Visualization"
   ]
  },
  {
   "cell_type": "code",
   "execution_count": null,
   "metadata": {},
   "outputs": [],
   "source": [
    "batchPlots(\"INSERT_BATCH_RAND\", \"TimescaleDB\", targetThreads, client_ips)\n"
   ]
  },
  {
   "cell_type": "markdown",
   "metadata": {},
   "source": [
    "## Bootstrap Database\n",
    "\n",
    "> Reboot server to a fresh state to avoid becoming non-accessible from public network"
   ]
  },
  {
   "cell_type": "code",
   "execution_count": null,
   "metadata": {},
   "outputs": [],
   "source": [
    "allGroup.run(f\"sudo shutdown -r +1\", hide=True)\n",
    "allGroup.close()\n",
    "\n",
    "# Buffer of reboot\n",
    "time.sleep(70)\n",
    "\n",
    "for ip in server_ips + client_ips:\n",
    "    server.wait_for_tcp(ip, 22, timeout=1200)\n"
   ]
  },
  {
   "cell_type": "markdown",
   "metadata": {},
   "source": [
    "<div class=\"alert alert-block alert-info\">Note: This is required so that there's actual data for clients to query from</div>"
   ]
  },
  {
   "cell_type": "code",
   "execution_count": null,
   "metadata": {},
   "outputs": [],
   "source": [
    "serverGroup.put(\"../scripts/restoreDB.sh\")\n",
    "serverGroup.close()\n",
    "\n",
    "# Restore DB\n",
    "serverGroup.run(f\"bash restoreDB.sh CHI@UC TimescaleDB {SERVER_WORKING_DIR}\", hide=True)\n",
    "serverGroup.close()\n",
    "\n",
    "# Keep checking if job is done running in tmux window\n",
    "checkTmuxJobIsDone(serverGroup)\n"
   ]
  },
  {
   "cell_type": "markdown",
   "metadata": {},
   "source": [
    "## Experiment – UNARY QUERY (SEQ)\n",
    "> Perform experiments\n"
   ]
  },
  {
   "cell_type": "code",
   "execution_count": null,
   "metadata": {},
   "outputs": [],
   "source": [
    "runWorkload(\n",
    "    \"QUERY_UNARY_SEQ\",\n",
    "    targetThreads,\n",
    "    server_local_ips[server_ips[0]],\n",
    "    9491,\n",
    "    \"TimescaleDB\",\n",
    "    client_ips,\n",
    "    1000,\n",
    "    0,\n",
    "    serverGroup,\n",
    "    SERVER_WORKING_DIR,\n",
    "    \"ubuntu\",\n",
    ")\n"
   ]
  },
  {
   "cell_type": "markdown",
   "metadata": {},
   "source": [
    "> Visualization"
   ]
  },
  {
   "cell_type": "code",
   "execution_count": null,
   "metadata": {},
   "outputs": [],
   "source": [
    "unaryPlots(\"QUERY_UNARY_SEQ\", \"TimescaleDB\", targetThreads, client_ips, logScale=True)\n"
   ]
  },
  {
   "cell_type": "markdown",
   "metadata": {},
   "source": [
    "## Experiment – UNARY QUERY (RND)\n",
    "> Perform experiments"
   ]
  },
  {
   "cell_type": "code",
   "execution_count": null,
   "metadata": {},
   "outputs": [],
   "source": [
    "runWorkload(\n",
    "    \"QUERY_UNARY_RAND\",\n",
    "    targetThreads,\n",
    "    server_local_ips[server_ips[0]],\n",
    "    9491,\n",
    "    \"TimescaleDB\",\n",
    "    client_ips,\n",
    "    1000,\n",
    "    0,\n",
    "    serverGroup,\n",
    "    SERVER_WORKING_DIR,\n",
    "    \"ubuntu\",\n",
    ")\n"
   ]
  },
  {
   "cell_type": "markdown",
   "metadata": {},
   "source": [
    "> Visualization"
   ]
  },
  {
   "cell_type": "code",
   "execution_count": null,
   "metadata": {},
   "outputs": [],
   "source": [
    "unaryPlots(\"QUERY_UNARY_RAND\", \"TimescaleDB\", targetThreads, client_ips)\n"
   ]
  },
  {
   "cell_type": "markdown",
   "metadata": {},
   "source": [
    "## Experiment – BATCH QUERY (SEQ)\n",
    "> Perform experiments\n"
   ]
  },
  {
   "cell_type": "code",
   "execution_count": null,
   "metadata": {},
   "outputs": [],
   "source": [
    "runWorkload(\n",
    "    \"QUERY_BATCH_SEQ\",\n",
    "    targetThreads,\n",
    "    server_local_ips[server_ips[0]],\n",
    "    9491,\n",
    "    \"TimescaleDB\",\n",
    "    client_ips,\n",
    "    100,\n",
    "    1000,\n",
    "    serverGroup,\n",
    "    SERVER_WORKING_DIR,\n",
    "    \"ubuntu\",\n",
    ")\n"
   ]
  },
  {
   "cell_type": "markdown",
   "metadata": {},
   "source": [
    "> Visualization"
   ]
  },
  {
   "cell_type": "code",
   "execution_count": null,
   "metadata": {},
   "outputs": [],
   "source": [
    "batchPlots(\"QUERY_BATCH_SEQ\", \"TimescaleDB\", targetThreads, client_ips, 100)\n"
   ]
  },
  {
   "cell_type": "markdown",
   "metadata": {},
   "source": [
    "## Experiment – BATCH QUERY (RND)\n",
    "> Perform experiments\n"
   ]
  },
  {
   "cell_type": "code",
   "execution_count": null,
   "metadata": {},
   "outputs": [],
   "source": [
    "runWorkload(\n",
    "    \"QUERY_BATCH_RAND\",\n",
    "    targetThreads,\n",
    "    server_local_ips[server_ips[0]],\n",
    "    9491,\n",
    "    \"TimescaleDB\",\n",
    "    client_ips,\n",
    "    1000,\n",
    "    10,\n",
    "    serverGroup,\n",
    "    SERVER_WORKING_DIR,\n",
    "    \"ubuntu\",\n",
    ")\n"
   ]
  },
  {
   "cell_type": "markdown",
   "metadata": {},
   "source": [
    "> Visualization"
   ]
  },
  {
   "cell_type": "code",
   "execution_count": null,
   "metadata": {},
   "outputs": [],
   "source": [
    "batchPlots(\"QUERY_BATCH_RAND\", \"TimescaleDB\", targetThreads, client_ips)\n"
   ]
  }
 ],
 "metadata": {
  "kernelspec": {
   "display_name": "base",
   "language": "python",
   "name": "python3"
  },
  "language_info": {
   "codemirror_mode": {
    "name": "ipython",
    "version": 3
   },
   "file_extension": ".py",
   "mimetype": "text/x-python",
   "name": "python",
   "nbconvert_exporter": "python",
   "pygments_lexer": "ipython3",
   "version": "3.11.4"
  }
 },
 "nbformat": 4,
 "nbformat_minor": 2
}
